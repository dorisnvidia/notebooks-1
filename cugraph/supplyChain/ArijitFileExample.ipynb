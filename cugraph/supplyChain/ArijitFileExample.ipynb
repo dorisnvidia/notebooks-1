{
 "cells": [
  {
   "cell_type": "markdown",
   "metadata": {},
   "source": [
    "# Supply chain partitioning example\n",
    "\n",
    "\n",
    "In this notebook, we will use cudf and cuGraph to show how to read multiple files, compute WCC, and dump to output files\n",
    "\n",
    "* Created:   01/22/2020\n",
    "\n",
    "RAPIDS Versions: 0.11.1\n",
    "\n",
    "Test Hardware\n",
    "* GV100 32G, CUDA 10.1\n",
    "\n",
    "Using docker container: rapidsai/rapidsai:cuda10.1-runtime-centos7"
   ]
  },
  {
   "cell_type": "markdown",
   "metadata": {},
   "source": [
    "## cuGraph Notice \n",
    "The current version of cuGraph has some limitations:\n",
    "\n",
    "* Vertex IDs need to be 32-bit integers.\n",
    "* Vertex IDs are expected to be contiguous integers starting from 0.\n",
    "\n",
    "cuGraph provides the renumber function to mitigate this problem. Input vertex IDs for the renumber function can be either 32-bit or 64-bit integers, can be non-contiguous, and can start from an arbitrary number. The renumber function maps the provided input vertex IDs to 32-bit contiguous integers starting from 0. cuGraph still requires the renumbered vertex IDs to be representable in 32-bit integers. These limitations are being addressed and will be fixed soon. "
   ]
  },
  {
   "cell_type": "code",
   "execution_count": 15,
   "metadata": {},
   "outputs": [],
   "source": [
    "# Import needed libraries\n",
    "import cugraph\n",
    "import cudf\n",
    "import os"
   ]
  },
  {
   "cell_type": "markdown",
   "metadata": {},
   "source": [
    "#### Prep"
   ]
  },
  {
   "cell_type": "code",
   "execution_count": 16,
   "metadata": {},
   "outputs": [],
   "source": [
    "# Test files\n",
    "root_dir = '../data/'\n",
    "output_dir = \"../../\"\n",
    "#input_file_base = 'supplyChain-data'\n",
    "input_file_base = 'Arijit'"
   ]
  },
  {
   "cell_type": "code",
   "execution_count": 17,
   "metadata": {},
   "outputs": [],
   "source": [
    "def print_components(_df, id, maxColumnLength):\n",
    "    \n",
    "    _f = _df.query('labels == @id')\n",
    "  \n",
    "    part = []\n",
    "    for i in range(len(_f)):\n",
    "        part.append(_f['vertices'][i] + 1)\n",
    "        \n",
    "    for i in range(len(_f), maxColumnLength):\n",
    "        part.append(None)\n",
    "    print(part)\n",
    "    \n",
    "    return part"
   ]
  },
  {
   "cell_type": "markdown",
   "metadata": {},
   "source": [
    "#### loop to read files, renumber the node list (if index not starting from 0), create graphs, compute WCC, and dump WCC label info to multiple output files"
   ]
  },
  {
   "cell_type": "code",
   "execution_count": 20,
   "metadata": {},
   "outputs": [
    {
     "name": "stdout",
     "output_type": "stream",
     "text": [
      "Total number of components found :  1\n",
      "Max # of nodes in any of the component :  60\n",
      "Vertex Ids that belong to component label  1 : \n",
      "[1, 2, 3, 4, 5, 6, 7, 8, 9, 10, 11, 12, 13, 14, 15, 16, 17, 18, 19, 20, 21, 22, 23, 24, 25, 26, 27, 28, 29, 30, 31, 32, 33, 34, 35, 36, 37, 38, 39, 40, 41, 42, 43, 44, 45, 46, 47, 48, 49, 50, 51, 52, 53, 54, 55, 56, 57, 58, 59, 60]\n",
      "Total number of components found :  2\n",
      "Max # of nodes in any of the component :  23\n",
      "Vertex Ids that belong to component label  1 : \n",
      "[1, 2, 5, 6, 7, 8, 9, 10, 11, 12, 13, 14, 15, 16, 17, 18, 32, 33, 34, 35, 36, 37, 38]\n",
      "Vertex Ids that belong to component label  3 : \n",
      "[3, 4, 19, 20, 21, 22, 23, 24, 25, 26, 27, 28, 29, 30, 31, 39, 40, 41, 42, 43, 44, 45, None]\n"
     ]
    }
   ],
   "source": [
    "for i in [1,2]:\n",
    "\n",
    "    datafile = root_dir+input_file_base+str(i)+'.csv'\n",
    "    gdf = cudf.read_csv(datafile, delimiter=\",\", names=['src', 'dst'], dtype=['int32', 'int32'], skiprows=1 )\n",
    "    \n",
    "    # renumbering in case the node index does not start from 0\n",
    "    gdf['renumbered_src'], gdf['renumbered_dst'], mapping = cugraph.renumber(gdf['src'], gdf['dst'])\n",
    "    \n",
    "    # create undirectred graph\n",
    "    gpuG = cugraph.Graph()\n",
    "    gpuG.from_cudf_edgelist(gdf, source='renumbered_src', target='renumbered_dst')\n",
    "    wcc = cugraph.weakly_connected_components(gpuG)\n",
    "    \n",
    "    # back to original vertices before numbering \n",
    "    wcc['org_vertices'] = mapping[wcc['vertices']]\n",
    "    \n",
    "    label_gby = wcc.groupby('labels')\n",
    "    maxNodesCountPerComponent = label_gby['org_vertices'].count().max()  \n",
    "    print(\"Total number of components found : \", wcc['labels'].unique().count())\n",
    "    print(\"Max # of nodes in any of the component : \", maxNodesCountPerComponent)\n",
    "\n",
    "    # print out\n",
    "    tempdf = cudf.DataFrame()\n",
    "    outputfile = output_dir + input_file_base+str(i) + '_output.csv'\n",
    "    for j in wcc['labels'].unique():\n",
    "        print(\"Vertex Ids that belong to component label \", j, \": \") \n",
    "        \n",
    "        tempdf['WCC'+str(j)] = print_components(wcc, j, maxNodesCountPerComponent)\n",
    "    tempdf.to_csv(outputfile,index=False)"
   ]
  },
  {
   "cell_type": "code",
   "execution_count": null,
   "metadata": {},
   "outputs": [],
   "source": []
  }
 ],
 "metadata": {
  "kernelspec": {
   "display_name": "Python 3",
   "language": "python",
   "name": "python3"
  },
  "language_info": {
   "codemirror_mode": {
    "name": "ipython",
    "version": 3
   },
   "file_extension": ".py",
   "mimetype": "text/x-python",
   "name": "python",
   "nbconvert_exporter": "python",
   "pygments_lexer": "ipython3",
   "version": "3.6.7"
  }
 },
 "nbformat": 4,
 "nbformat_minor": 4
}
