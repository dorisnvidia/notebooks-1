{
 "cells": [
  {
   "cell_type": "code",
   "execution_count": 1,
   "metadata": {
    "colab": {
     "base_uri": "https://localhost:8080/",
     "height": 193
    },
    "colab_type": "code",
    "id": "FUMAK3RSEuPe",
    "outputId": "bc6e3f0d-57d5-40ff-855e-7e4a855b381f"
   },
   "outputs": [
    {
     "name": "stdout",
     "output_type": "stream",
     "text": [
      "Collecting ipython-autotime\n",
      "  Downloading https://files.pythonhosted.org/packages/e6/f9/0626bbdb322e3a078d968e87e3b01341e7890544de891d0cb613641220e6/ipython-autotime-0.1.tar.bz2\n",
      "Building wheels for collected packages: ipython-autotime\n",
      "  Building wheel for ipython-autotime (setup.py) ... \u001b[?25ldone\n",
      "\u001b[?25h  Created wheel for ipython-autotime: filename=ipython_autotime-0.1-cp36-none-any.whl size=1832 sha256=cf8212ebd06854749da83ed8b72941dc45a3deb2d8e0f4696871fb4fa33b7b25\n",
      "  Stored in directory: /root/.cache/pip/wheels/d2/df/81/2db1e54bc91002cec40334629bc39cfa86dff540b304ebcd6e\n",
      "Successfully built ipython-autotime\n",
      "Installing collected packages: ipython-autotime\n",
      "Successfully installed ipython-autotime-0.1\n"
     ]
    }
   ],
   "source": [
    "!pip install ipython-autotime\n",
    "%load_ext autotime"
   ]
  },
  {
   "cell_type": "code",
   "execution_count": 2,
   "metadata": {},
   "outputs": [
    {
     "name": "stdout",
     "output_type": "stream",
     "text": [
      "time: 1.09 s\n"
     ]
    }
   ],
   "source": [
    "#-- IMPORT packages\n",
    "import cudf\n",
    "import cugraph\n",
    "import numpy as np\n",
    "from collections import OrderedDict\n",
    "import time"
   ]
  },
  {
   "cell_type": "code",
   "execution_count": 3,
   "metadata": {
    "colab": {},
    "colab_type": "code",
    "id": "K3iBTh-SG0mc"
   },
   "outputs": [
    {
     "name": "stdout",
     "output_type": "stream",
     "text": [
      "time: 1.31 s\n"
     ]
    }
   ],
   "source": [
    "datafile = '../data/400K_Input.csv'\n",
    "raw_data  = cudf.read_csv(datafile, delimiter=\",\", names=['node_1', 'node_2'], dtype=['str', 'str'], skiprows=1 )\n",
    "raw_data.rename(columns={'node_1':'src_str', 'node_2':'dst_str'}, inplace=True)"
   ]
  },
  {
   "cell_type": "code",
   "execution_count": 4,
   "metadata": {
    "colab": {
     "base_uri": "https://localhost:8080/",
     "height": 35
    },
    "colab_type": "code",
    "id": "2NlGEmLIHVe0",
    "outputId": "17f543e6-89e4-41a2-a258-06ff38f0481f"
   },
   "outputs": [
    {
     "data": {
      "text/plain": [
       "cudf.core.dataframe.DataFrame"
      ]
     },
     "execution_count": 4,
     "metadata": {},
     "output_type": "execute_result"
    },
    {
     "name": "stdout",
     "output_type": "stream",
     "text": [
      "time: 10.1 ms\n"
     ]
    }
   ],
   "source": [
    "type(raw_data)"
   ]
  },
  {
   "cell_type": "code",
   "execution_count": 5,
   "metadata": {
    "colab": {
     "base_uri": "https://localhost:8080/",
     "height": 35
    },
    "colab_type": "code",
    "id": "1e0zVjhrHYOz",
    "outputId": "ffc3f473-3536-4ae0-8102-1c95161aba23"
   },
   "outputs": [
    {
     "name": "stdout",
     "output_type": "stream",
     "text": [
      "720768\n",
      "time: 689 µs\n"
     ]
    }
   ],
   "source": [
    "print(len(raw_data))"
   ]
  },
  {
   "cell_type": "code",
   "execution_count": 6,
   "metadata": {
    "colab": {},
    "colab_type": "code",
    "id": "i64aOmbbHfjL"
   },
   "outputs": [
    {
     "name": "stdout",
     "output_type": "stream",
     "text": [
      "time: 183 ms\n"
     ]
    }
   ],
   "source": [
    "raw_data['src_hash'] = raw_data['src_str'].str.hash()\n",
    "raw_data['dst_hash'] = raw_data['dst_str'].str.hash()"
   ]
  },
  {
   "cell_type": "code",
   "execution_count": 7,
   "metadata": {},
   "outputs": [
    {
     "data": {
      "text/plain": [
       "164400"
      ]
     },
     "execution_count": 7,
     "metadata": {},
     "output_type": "execute_result"
    },
    {
     "name": "stdout",
     "output_type": "stream",
     "text": [
      "time: 26.6 ms\n"
     ]
    }
   ],
   "source": [
    "raw_data['src_str'].unique().count()"
   ]
  },
  {
   "cell_type": "code",
   "execution_count": 8,
   "metadata": {},
   "outputs": [
    {
     "data": {
      "text/plain": [
       "164395"
      ]
     },
     "execution_count": 8,
     "metadata": {},
     "output_type": "execute_result"
    },
    {
     "name": "stdout",
     "output_type": "stream",
     "text": [
      "time: 738 ms\n"
     ]
    }
   ],
   "source": [
    "raw_data['src_hash'].unique().count()"
   ]
  },
  {
   "cell_type": "code",
   "execution_count": 9,
   "metadata": {},
   "outputs": [
    {
     "data": {
      "text/plain": [
       "400000"
      ]
     },
     "execution_count": 9,
     "metadata": {},
     "output_type": "execute_result"
    },
    {
     "name": "stdout",
     "output_type": "stream",
     "text": [
      "time: 37.7 ms\n"
     ]
    }
   ],
   "source": [
    "raw_data['dst_str'].unique().count()"
   ]
  },
  {
   "cell_type": "code",
   "execution_count": 10,
   "metadata": {},
   "outputs": [
    {
     "data": {
      "text/plain": [
       "399979"
      ]
     },
     "execution_count": 10,
     "metadata": {},
     "output_type": "execute_result"
    },
    {
     "name": "stdout",
     "output_type": "stream",
     "text": [
      "time: 17.5 ms\n"
     ]
    }
   ],
   "source": [
    "raw_data['dst_hash'].unique().count()"
   ]
  },
  {
   "cell_type": "code",
   "execution_count": null,
   "metadata": {},
   "outputs": [],
   "source": [
    "### the hash function in cudf does not look right as the unique counts differ after hashing"
   ]
  },
  {
   "cell_type": "code",
   "execution_count": 11,
   "metadata": {},
   "outputs": [
    {
     "name": "stdout",
     "output_type": "stream",
     "text": [
      "time: 11.3 ms\n"
     ]
    }
   ],
   "source": [
    "# Renumber the hash values to a smaller contiguous range \n",
    "raw_data['src'], raw_data['dst'], mapping = cugraph.renumber(raw_data['src_hash'], raw_data['dst_hash'])"
   ]
  },
  {
   "cell_type": "code",
   "execution_count": 13,
   "metadata": {},
   "outputs": [
    {
     "data": {
      "text/plain": [
       "164395"
      ]
     },
     "execution_count": 13,
     "metadata": {},
     "output_type": "execute_result"
    },
    {
     "name": "stdout",
     "output_type": "stream",
     "text": [
      "time: 5.17 ms\n"
     ]
    }
   ],
   "source": [
    "raw_data['src'].nunique()"
   ]
  },
  {
   "cell_type": "code",
   "execution_count": 15,
   "metadata": {},
   "outputs": [
    {
     "data": {
      "text/plain": [
       "399979"
      ]
     },
     "execution_count": 15,
     "metadata": {},
     "output_type": "execute_result"
    },
    {
     "name": "stdout",
     "output_type": "stream",
     "text": [
      "time: 183 ms\n"
     ]
    }
   ],
   "source": [
    "raw_data['dst'].unique().count()"
   ]
  },
  {
   "cell_type": "code",
   "execution_count": 19,
   "metadata": {},
   "outputs": [
    {
     "name": "stdout",
     "output_type": "stream",
     "text": [
      "time: 2.61 ms\n"
     ]
    },
    {
     "name": "stderr",
     "output_type": "stream",
     "text": [
      "/opt/conda/envs/rapids/lib/python3.6/site-packages/cugraph/structure/graph.py:179: UserWarning: add_edge_list will be deprecated in next release. Use from_cudf_edgelist instead\n",
      "  Use from_cudf_edgelist instead')\n"
     ]
    }
   ],
   "source": [
    "gpuG = cugraph.DiGraph() # cugraph.DiGraph is directed graph\n",
    "gpuG.add_edge_list(raw_data['src'], raw_data['dst'])"
   ]
  },
  {
   "cell_type": "code",
   "execution_count": 20,
   "metadata": {},
   "outputs": [
    {
     "name": "stdout",
     "output_type": "stream",
     "text": [
      "Gpu Graph\n",
      "\tNumber of Vertices: 404379\n",
      "\tNumber of Edges:    720768\n",
      "time: 2.02 ms\n"
     ]
    }
   ],
   "source": [
    "print(\"Gpu Graph\")\n",
    "print(\"\\tNumber of Vertices: \" + str(gpuG.number_of_vertices()))\n",
    "print(\"\\tNumber of Edges:    \" + str(gpuG.number_of_edges()))"
   ]
  },
  {
   "cell_type": "code",
   "execution_count": 21,
   "metadata": {},
   "outputs": [
    {
     "name": "stdout",
     "output_type": "stream",
     "text": [
      "time: 20.7 ms\n"
     ]
    }
   ],
   "source": [
    "gpuG1 = cugraph.Graph() # cugraph.Graph is undirected graph\n",
    "gpuG1.add_edge_list(raw_data['src'], raw_data['dst'])"
   ]
  },
  {
   "cell_type": "code",
   "execution_count": 22,
   "metadata": {},
   "outputs": [
    {
     "name": "stdout",
     "output_type": "stream",
     "text": [
      "Gpu Graph\n",
      "\tNumber of Vertices: 404379\n",
      "\tNumber of Edges:    1281531\n",
      "time: 2.45 ms\n"
     ]
    }
   ],
   "source": [
    "print(\"Gpu Graph\")\n",
    "print(\"\\tNumber of Vertices: \" + str(gpuG1.number_of_vertices()))\n",
    "print(\"\\tNumber of Edges:    \" + str(gpuG1.number_of_edges()))"
   ]
  },
  {
   "cell_type": "markdown",
   "metadata": {},
   "source": [
    "## why the number of edges are ODD number for undirected cugraph.Graph()?"
   ]
  },
  {
   "cell_type": "code",
   "execution_count": 23,
   "metadata": {},
   "outputs": [
    {
     "name": "stdout",
     "output_type": "stream",
     "text": [
      "time: 72.4 ms\n"
     ]
    }
   ],
   "source": [
    "wcc = cugraph.weakly_connected_components(gpuG1)"
   ]
  },
  {
   "cell_type": "code",
   "execution_count": 24,
   "metadata": {},
   "outputs": [
    {
     "name": "stdout",
     "output_type": "stream",
     "text": [
      "Total number of components found :  2\n",
      "time: 19.8 ms\n"
     ]
    }
   ],
   "source": [
    "label_gby = wcc.groupby('labels')\n",
    "label_count = label_gby.count()\n",
    "print(\"Total number of components found : \", len(label_count))"
   ]
  },
  {
   "cell_type": "markdown",
   "metadata": {
    "colab_type": "text",
    "id": "dI_uaL7IJTW5"
   },
   "source": [
    "**NETWORKX RUN**"
   ]
  },
  {
   "cell_type": "code",
   "execution_count": 31,
   "metadata": {
    "colab": {},
    "colab_type": "code",
    "id": "9S4a4Pqn7Ez5"
   },
   "outputs": [
    {
     "name": "stdout",
     "output_type": "stream",
     "text": [
      "time: 699 ms\n"
     ]
    }
   ],
   "source": [
    "import pandas as pd\n",
    "import networkx as nx\n",
    "import matplotlib.pyplot as plt"
   ]
  },
  {
   "cell_type": "code",
   "execution_count": 32,
   "metadata": {
    "colab": {},
    "colab_type": "code",
    "id": "k6VKL_qNJcsv"
   },
   "outputs": [
    {
     "name": "stdout",
     "output_type": "stream",
     "text": [
      "time: 757 ms\n"
     ]
    }
   ],
   "source": [
    "df = pd.read_csv(datafile, delimiter=\",\", names=['node_1', 'node_2'], skiprows=1)\n",
    "df.rename(columns={'node_1':'src', 'node_2':'dst'}, inplace=True)"
   ]
  },
  {
   "cell_type": "code",
   "execution_count": 33,
   "metadata": {},
   "outputs": [
    {
     "data": {
      "text/html": [
       "<div>\n",
       "<style scoped>\n",
       "    .dataframe tbody tr th:only-of-type {\n",
       "        vertical-align: middle;\n",
       "    }\n",
       "\n",
       "    .dataframe tbody tr th {\n",
       "        vertical-align: top;\n",
       "    }\n",
       "\n",
       "    .dataframe thead th {\n",
       "        text-align: right;\n",
       "    }\n",
       "</style>\n",
       "<table border=\"1\" class=\"dataframe\">\n",
       "  <thead>\n",
       "    <tr style=\"text-align: right;\">\n",
       "      <th></th>\n",
       "      <th>src</th>\n",
       "      <th>dst</th>\n",
       "    </tr>\n",
       "  </thead>\n",
       "  <tbody>\n",
       "    <tr>\n",
       "      <th>0</th>\n",
       "      <td>ESP_PSR_100FG@@ESP_PSR_10PLANT</td>\n",
       "      <td>ESP_PSR_100FG@@ESP_PSR_10DC</td>\n",
       "    </tr>\n",
       "    <tr>\n",
       "      <th>1</th>\n",
       "      <td>ESP_PSR_100FG@@ESP_PSR_10PLANT</td>\n",
       "      <td>ESP_PSR_100FG@@ESP_PSR_10PLANT</td>\n",
       "    </tr>\n",
       "    <tr>\n",
       "      <th>2</th>\n",
       "      <td>ESP_PSR_100FG@@ESP_PSR_10PLANT</td>\n",
       "      <td>ESP_PSR_100SEMIFG@@ESP_PSR_10PLANT</td>\n",
       "    </tr>\n",
       "    <tr>\n",
       "      <th>3</th>\n",
       "      <td>ESP_PSR_100FG@@ESP_PSR_11PLANT</td>\n",
       "      <td>ESP_PSR_100FG@@ESP_PSR_11DC</td>\n",
       "    </tr>\n",
       "    <tr>\n",
       "      <th>4</th>\n",
       "      <td>ESP_PSR_100FG@@ESP_PSR_11PLANT</td>\n",
       "      <td>ESP_PSR_100FG@@ESP_PSR_11PLANT</td>\n",
       "    </tr>\n",
       "  </tbody>\n",
       "</table>\n",
       "</div>"
      ],
      "text/plain": [
       "                              src                                 dst\n",
       "0  ESP_PSR_100FG@@ESP_PSR_10PLANT         ESP_PSR_100FG@@ESP_PSR_10DC\n",
       "1  ESP_PSR_100FG@@ESP_PSR_10PLANT      ESP_PSR_100FG@@ESP_PSR_10PLANT\n",
       "2  ESP_PSR_100FG@@ESP_PSR_10PLANT  ESP_PSR_100SEMIFG@@ESP_PSR_10PLANT\n",
       "3  ESP_PSR_100FG@@ESP_PSR_11PLANT         ESP_PSR_100FG@@ESP_PSR_11DC\n",
       "4  ESP_PSR_100FG@@ESP_PSR_11PLANT      ESP_PSR_100FG@@ESP_PSR_11PLANT"
      ]
     },
     "execution_count": 33,
     "metadata": {},
     "output_type": "execute_result"
    },
    {
     "name": "stdout",
     "output_type": "stream",
     "text": [
      "time: 6.4 ms\n"
     ]
    }
   ],
   "source": [
    "df.head()"
   ]
  },
  {
   "cell_type": "code",
   "execution_count": 34,
   "metadata": {},
   "outputs": [
    {
     "name": "stdout",
     "output_type": "stream",
     "text": [
      "720768\n",
      "time: 620 µs\n"
     ]
    }
   ],
   "source": [
    "print(len(df))"
   ]
  },
  {
   "cell_type": "code",
   "execution_count": 35,
   "metadata": {},
   "outputs": [
    {
     "name": "stdout",
     "output_type": "stream",
     "text": [
      "time: 633 ms\n"
     ]
    }
   ],
   "source": [
    "df['src_hash'] = df['src'].apply(hash)\n",
    "df['dst_hash'] = df['dst'].apply(hash)"
   ]
  },
  {
   "cell_type": "code",
   "execution_count": 36,
   "metadata": {},
   "outputs": [
    {
     "data": {
      "text/plain": [
       "0   -8046491048877958886\n",
       "1   -8046491048877958886\n",
       "2   -8046491048877958886\n",
       "3    2235457228028694153\n",
       "4    2235457228028694153\n",
       "Name: src_hash, dtype: int64"
      ]
     },
     "execution_count": 36,
     "metadata": {},
     "output_type": "execute_result"
    },
    {
     "name": "stdout",
     "output_type": "stream",
     "text": [
      "time: 4.41 ms\n"
     ]
    }
   ],
   "source": [
    "#df['src_hash'].value_counts()\n",
    "df['src_hash'].head()"
   ]
  },
  {
   "cell_type": "code",
   "execution_count": 37,
   "metadata": {
    "colab": {},
    "colab_type": "code",
    "id": "-NDnjfg-J56m"
   },
   "outputs": [
    {
     "name": "stdout",
     "output_type": "stream",
     "text": [
      "time: 3.31 s\n"
     ]
    }
   ],
   "source": [
    "cpuG=nx.from_pandas_edgelist(df, source='src_hash', target='dst_hash',create_using=nx.DiGraph)"
   ]
  },
  {
   "cell_type": "code",
   "execution_count": 38,
   "metadata": {},
   "outputs": [
    {
     "name": "stdout",
     "output_type": "stream",
     "text": [
      "cpu Graph\n",
      "\tNumber of Vertices: 404400\n",
      "\tNumber of Edges:    720768\n",
      "time: 340 ms\n"
     ]
    }
   ],
   "source": [
    "print(\"cpu Graph\")\n",
    "print(\"\\tNumber of Vertices: \" + str(cpuG.number_of_nodes()))\n",
    "print(\"\\tNumber of Edges:    \" + str(cpuG.number_of_edges()))"
   ]
  },
  {
   "cell_type": "code",
   "execution_count": 39,
   "metadata": {
    "colab": {
     "base_uri": "https://localhost:8080/",
     "height": 35
    },
    "colab_type": "code",
    "id": "nS2VoXQuKH7e",
    "outputId": "d28a2fce-2f97-4507-e0df-01b760a80131"
   },
   "outputs": [
    {
     "name": "stdout",
     "output_type": "stream",
     "text": [
      "\tNumber weakly connected components: 16\n",
      "time: 1.71 s\n"
     ]
    }
   ],
   "source": [
    "print(\"\\tNumber weakly connected components: \" + str(nx.number_weakly_connected_components(cpuG)))"
   ]
  },
  {
   "cell_type": "code",
   "execution_count": null,
   "metadata": {},
   "outputs": [],
   "source": []
  }
 ],
 "metadata": {
  "accelerator": "GPU",
  "colab": {
   "name": "400K_CuGraphVsNx.ipynb",
   "provenance": []
  },
  "kernelspec": {
   "display_name": "Python 3",
   "language": "python",
   "name": "python3"
  },
  "language_info": {
   "codemirror_mode": {
    "name": "ipython",
    "version": 3
   },
   "file_extension": ".py",
   "mimetype": "text/x-python",
   "name": "python",
   "nbconvert_exporter": "python",
   "pygments_lexer": "ipython3",
   "version": "3.6.7"
  }
 },
 "nbformat": 4,
 "nbformat_minor": 4
}
