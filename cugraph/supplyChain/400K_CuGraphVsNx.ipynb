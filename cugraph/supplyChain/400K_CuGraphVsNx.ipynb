{
 "cells": [
  {
   "cell_type": "code",
   "execution_count": 1,
   "metadata": {
    "colab": {
     "base_uri": "https://localhost:8080/",
     "height": 193
    },
    "colab_type": "code",
    "id": "FUMAK3RSEuPe",
    "outputId": "bc6e3f0d-57d5-40ff-855e-7e4a855b381f"
   },
   "outputs": [
    {
     "name": "stdout",
     "output_type": "stream",
     "text": [
      "Requirement already satisfied: ipython-autotime in /opt/conda/envs/rapids/lib/python3.6/site-packages (0.1)\n"
     ]
    }
   ],
   "source": [
    "!pip install ipython-autotime\n",
    "%load_ext autotime"
   ]
  },
  {
   "cell_type": "code",
   "execution_count": 2,
   "metadata": {},
   "outputs": [
    {
     "name": "stdout",
     "output_type": "stream",
     "text": [
      "time: 1.04 s\n"
     ]
    }
   ],
   "source": [
    "#-- IMPORT packages\n",
    "import cudf\n",
    "import cugraph\n",
    "import numpy as np\n",
    "from collections import OrderedDict\n",
    "import time"
   ]
  },
  {
   "cell_type": "markdown",
   "metadata": {},
   "source": [
    "### create graph using Cugraph"
   ]
  },
  {
   "cell_type": "code",
   "execution_count": 3,
   "metadata": {
    "colab": {},
    "colab_type": "code",
    "id": "K3iBTh-SG0mc"
   },
   "outputs": [
    {
     "name": "stdout",
     "output_type": "stream",
     "text": [
      "time: 1.17 s\n"
     ]
    }
   ],
   "source": [
    "datafile = '../data/400K_Input.csv'\n",
    "gdf  = cudf.read_csv(datafile, delimiter=\",\", names=['node_1', 'node_2'], dtype=['str', 'str'], skiprows=1 )\n",
    "gdf.rename(columns={'node_1':'src_str', 'node_2':'dst_str'}, inplace=True)"
   ]
  },
  {
   "cell_type": "code",
   "execution_count": 4,
   "metadata": {
    "colab": {
     "base_uri": "https://localhost:8080/",
     "height": 35
    },
    "colab_type": "code",
    "id": "2NlGEmLIHVe0",
    "outputId": "17f543e6-89e4-41a2-a258-06ff38f0481f"
   },
   "outputs": [
    {
     "data": {
      "text/plain": [
       "cudf.core.dataframe.DataFrame"
      ]
     },
     "execution_count": 4,
     "metadata": {},
     "output_type": "execute_result"
    },
    {
     "name": "stdout",
     "output_type": "stream",
     "text": [
      "time: 9.86 ms\n"
     ]
    }
   ],
   "source": [
    "type(gdf)"
   ]
  },
  {
   "cell_type": "code",
   "execution_count": 5,
   "metadata": {
    "colab": {
     "base_uri": "https://localhost:8080/",
     "height": 35
    },
    "colab_type": "code",
    "id": "1e0zVjhrHYOz",
    "outputId": "ffc3f473-3536-4ae0-8102-1c95161aba23"
   },
   "outputs": [
    {
     "name": "stdout",
     "output_type": "stream",
     "text": [
      "720768\n",
      "time: 785 µs\n"
     ]
    }
   ],
   "source": [
    "print(len(gdf))"
   ]
  },
  {
   "cell_type": "code",
   "execution_count": 6,
   "metadata": {
    "colab": {},
    "colab_type": "code",
    "id": "i64aOmbbHfjL"
   },
   "outputs": [
    {
     "data": {
      "text/html": [
       "<div>\n",
       "<style scoped>\n",
       "    .dataframe tbody tr th:only-of-type {\n",
       "        vertical-align: middle;\n",
       "    }\n",
       "\n",
       "    .dataframe tbody tr th {\n",
       "        vertical-align: top;\n",
       "    }\n",
       "\n",
       "    .dataframe thead th {\n",
       "        text-align: right;\n",
       "    }\n",
       "</style>\n",
       "<table border=\"1\" class=\"dataframe\">\n",
       "  <thead>\n",
       "    <tr style=\"text-align: right;\">\n",
       "      <th></th>\n",
       "      <th>src_str</th>\n",
       "      <th>dst_str</th>\n",
       "      <th>src_hash</th>\n",
       "      <th>dst_hash</th>\n",
       "    </tr>\n",
       "  </thead>\n",
       "  <tbody>\n",
       "    <tr>\n",
       "      <th>0</th>\n",
       "      <td>ESP_PSR_100FG@@ESP_PSR_10PLANT</td>\n",
       "      <td>ESP_PSR_100FG@@ESP_PSR_10DC</td>\n",
       "      <td>-1046842473</td>\n",
       "      <td>-1231339202</td>\n",
       "    </tr>\n",
       "    <tr>\n",
       "      <th>1</th>\n",
       "      <td>ESP_PSR_100FG@@ESP_PSR_10PLANT</td>\n",
       "      <td>ESP_PSR_100FG@@ESP_PSR_10PLANT</td>\n",
       "      <td>-1046842473</td>\n",
       "      <td>1828407819</td>\n",
       "    </tr>\n",
       "    <tr>\n",
       "      <th>2</th>\n",
       "      <td>ESP_PSR_100FG@@ESP_PSR_10PLANT</td>\n",
       "      <td>ESP_PSR_100SEMIFG@@ESP_PSR_10PLANT</td>\n",
       "      <td>-1046842473</td>\n",
       "      <td>1516831772</td>\n",
       "    </tr>\n",
       "    <tr>\n",
       "      <th>3</th>\n",
       "      <td>ESP_PSR_100FG@@ESP_PSR_11PLANT</td>\n",
       "      <td>ESP_PSR_100FG@@ESP_PSR_11DC</td>\n",
       "      <td>-1708607005</td>\n",
       "      <td>-625024697</td>\n",
       "    </tr>\n",
       "    <tr>\n",
       "      <th>4</th>\n",
       "      <td>ESP_PSR_100FG@@ESP_PSR_11PLANT</td>\n",
       "      <td>ESP_PSR_100FG@@ESP_PSR_11PLANT</td>\n",
       "      <td>-1708607005</td>\n",
       "      <td>232932757</td>\n",
       "    </tr>\n",
       "  </tbody>\n",
       "</table>\n",
       "</div>"
      ],
      "text/plain": [
       "                          src_str                             dst_str  \\\n",
       "0  ESP_PSR_100FG@@ESP_PSR_10PLANT         ESP_PSR_100FG@@ESP_PSR_10DC   \n",
       "1  ESP_PSR_100FG@@ESP_PSR_10PLANT      ESP_PSR_100FG@@ESP_PSR_10PLANT   \n",
       "2  ESP_PSR_100FG@@ESP_PSR_10PLANT  ESP_PSR_100SEMIFG@@ESP_PSR_10PLANT   \n",
       "3  ESP_PSR_100FG@@ESP_PSR_11PLANT         ESP_PSR_100FG@@ESP_PSR_11DC   \n",
       "4  ESP_PSR_100FG@@ESP_PSR_11PLANT      ESP_PSR_100FG@@ESP_PSR_11PLANT   \n",
       "\n",
       "     src_hash    dst_hash  \n",
       "0 -1046842473 -1231339202  \n",
       "1 -1046842473  1828407819  \n",
       "2 -1046842473  1516831772  \n",
       "3 -1708607005  -625024697  \n",
       "4 -1708607005   232932757  "
      ]
     },
     "execution_count": 6,
     "metadata": {},
     "output_type": "execute_result"
    },
    {
     "name": "stdout",
     "output_type": "stream",
     "text": [
      "time: 92.8 ms\n"
     ]
    }
   ],
   "source": [
    "gdf['src_hash'] = gdf['src_str'].hash_values()\n",
    "gdf['dst_hash'] = gdf['dst_str'].hash_values()\n",
    "gdf.head()"
   ]
  },
  {
   "cell_type": "markdown",
   "metadata": {},
   "source": [
    "#### note that different hash values were computed for the SAME string on different columns! For example, row 1 has the same source and dst strings, but end up with different hash values. maybe a CUDF bug"
   ]
  },
  {
   "cell_type": "code",
   "execution_count": 7,
   "metadata": {},
   "outputs": [
    {
     "data": {
      "text/plain": [
       "1441536"
      ]
     },
     "execution_count": 7,
     "metadata": {},
     "output_type": "execute_result"
    },
    {
     "name": "stdout",
     "output_type": "stream",
     "text": [
      "time: 153 ms\n"
     ]
    }
   ],
   "source": [
    "# workaround to combine to a single column, hash, and then seperate\n",
    "new_series=cudf.concat([gdf['src_str'],gdf['dst_str']])\n",
    "new_series.count()"
   ]
  },
  {
   "cell_type": "code",
   "execution_count": 8,
   "metadata": {},
   "outputs": [
    {
     "name": "stdout",
     "output_type": "stream",
     "text": [
      "time: 43.2 ms\n"
     ]
    }
   ],
   "source": [
    "temp = new_series.hash_values()\n",
    "gdf['src_hash'] = temp[:len(gdf)]"
   ]
  },
  {
   "cell_type": "code",
   "execution_count": 9,
   "metadata": {},
   "outputs": [
    {
     "name": "stdout",
     "output_type": "stream",
     "text": [
      "time: 976 µs\n"
     ]
    }
   ],
   "source": [
    "gdf['dst_hash'] = temp[len(gdf):]"
   ]
  },
  {
   "cell_type": "code",
   "execution_count": 10,
   "metadata": {},
   "outputs": [
    {
     "data": {
      "text/html": [
       "<div>\n",
       "<style scoped>\n",
       "    .dataframe tbody tr th:only-of-type {\n",
       "        vertical-align: middle;\n",
       "    }\n",
       "\n",
       "    .dataframe tbody tr th {\n",
       "        vertical-align: top;\n",
       "    }\n",
       "\n",
       "    .dataframe thead th {\n",
       "        text-align: right;\n",
       "    }\n",
       "</style>\n",
       "<table border=\"1\" class=\"dataframe\">\n",
       "  <thead>\n",
       "    <tr style=\"text-align: right;\">\n",
       "      <th></th>\n",
       "      <th>src_str</th>\n",
       "      <th>dst_str</th>\n",
       "      <th>src_hash</th>\n",
       "      <th>dst_hash</th>\n",
       "    </tr>\n",
       "  </thead>\n",
       "  <tbody>\n",
       "    <tr>\n",
       "      <th>0</th>\n",
       "      <td>ESP_PSR_100FG@@ESP_PSR_10PLANT</td>\n",
       "      <td>ESP_PSR_100FG@@ESP_PSR_10DC</td>\n",
       "      <td>1828407819</td>\n",
       "      <td>-1231339202</td>\n",
       "    </tr>\n",
       "    <tr>\n",
       "      <th>1</th>\n",
       "      <td>ESP_PSR_100FG@@ESP_PSR_10PLANT</td>\n",
       "      <td>ESP_PSR_100FG@@ESP_PSR_10PLANT</td>\n",
       "      <td>1828407819</td>\n",
       "      <td>1828407819</td>\n",
       "    </tr>\n",
       "    <tr>\n",
       "      <th>2</th>\n",
       "      <td>ESP_PSR_100FG@@ESP_PSR_10PLANT</td>\n",
       "      <td>ESP_PSR_100SEMIFG@@ESP_PSR_10PLANT</td>\n",
       "      <td>1828407819</td>\n",
       "      <td>1516831772</td>\n",
       "    </tr>\n",
       "    <tr>\n",
       "      <th>3</th>\n",
       "      <td>ESP_PSR_100FG@@ESP_PSR_11PLANT</td>\n",
       "      <td>ESP_PSR_100FG@@ESP_PSR_11DC</td>\n",
       "      <td>232932757</td>\n",
       "      <td>-625024697</td>\n",
       "    </tr>\n",
       "    <tr>\n",
       "      <th>4</th>\n",
       "      <td>ESP_PSR_100FG@@ESP_PSR_11PLANT</td>\n",
       "      <td>ESP_PSR_100FG@@ESP_PSR_11PLANT</td>\n",
       "      <td>232932757</td>\n",
       "      <td>232932757</td>\n",
       "    </tr>\n",
       "  </tbody>\n",
       "</table>\n",
       "</div>"
      ],
      "text/plain": [
       "                          src_str                             dst_str  \\\n",
       "0  ESP_PSR_100FG@@ESP_PSR_10PLANT         ESP_PSR_100FG@@ESP_PSR_10DC   \n",
       "1  ESP_PSR_100FG@@ESP_PSR_10PLANT      ESP_PSR_100FG@@ESP_PSR_10PLANT   \n",
       "2  ESP_PSR_100FG@@ESP_PSR_10PLANT  ESP_PSR_100SEMIFG@@ESP_PSR_10PLANT   \n",
       "3  ESP_PSR_100FG@@ESP_PSR_11PLANT         ESP_PSR_100FG@@ESP_PSR_11DC   \n",
       "4  ESP_PSR_100FG@@ESP_PSR_11PLANT      ESP_PSR_100FG@@ESP_PSR_11PLANT   \n",
       "\n",
       "     src_hash    dst_hash  \n",
       "0  1828407819 -1231339202  \n",
       "1  1828407819  1828407819  \n",
       "2  1828407819  1516831772  \n",
       "3   232932757  -625024697  \n",
       "4   232932757   232932757  "
      ]
     },
     "execution_count": 10,
     "metadata": {},
     "output_type": "execute_result"
    },
    {
     "name": "stdout",
     "output_type": "stream",
     "text": [
      "time: 39.8 ms\n"
     ]
    }
   ],
   "source": [
    "gdf.head()"
   ]
  },
  {
   "cell_type": "markdown",
   "metadata": {},
   "source": [
    "#### the hash values are now correct for both columns"
   ]
  },
  {
   "cell_type": "code",
   "execution_count": 11,
   "metadata": {},
   "outputs": [
    {
     "data": {
      "text/plain": [
       "164400"
      ]
     },
     "execution_count": 11,
     "metadata": {},
     "output_type": "execute_result"
    },
    {
     "name": "stdout",
     "output_type": "stream",
     "text": [
      "time: 25.4 ms\n"
     ]
    }
   ],
   "source": [
    "gdf['src_str'].unique().count()"
   ]
  },
  {
   "cell_type": "code",
   "execution_count": 12,
   "metadata": {},
   "outputs": [
    {
     "data": {
      "text/plain": [
       "164400"
      ]
     },
     "execution_count": 12,
     "metadata": {},
     "output_type": "execute_result"
    },
    {
     "name": "stdout",
     "output_type": "stream",
     "text": [
      "time: 357 ms\n"
     ]
    }
   ],
   "source": [
    "gdf['src_hash'].unique().count()"
   ]
  },
  {
   "cell_type": "code",
   "execution_count": 13,
   "metadata": {},
   "outputs": [
    {
     "data": {
      "text/plain": [
       "400000"
      ]
     },
     "execution_count": 13,
     "metadata": {},
     "output_type": "execute_result"
    },
    {
     "name": "stdout",
     "output_type": "stream",
     "text": [
      "time: 34.5 ms\n"
     ]
    }
   ],
   "source": [
    "gdf['dst_str'].unique().count()"
   ]
  },
  {
   "cell_type": "code",
   "execution_count": 14,
   "metadata": {},
   "outputs": [
    {
     "data": {
      "text/plain": [
       "400000"
      ]
     },
     "execution_count": 14,
     "metadata": {},
     "output_type": "execute_result"
    },
    {
     "name": "stdout",
     "output_type": "stream",
     "text": [
      "time: 15.5 ms\n"
     ]
    }
   ],
   "source": [
    "gdf['dst_hash'].unique().count()"
   ]
  },
  {
   "cell_type": "code",
   "execution_count": 15,
   "metadata": {},
   "outputs": [
    {
     "name": "stdout",
     "output_type": "stream",
     "text": [
      "time: 10.1 ms\n"
     ]
    }
   ],
   "source": [
    "# Renumber the hash values to a smaller contiguous range \n",
    "gdf['src_renumbered'], gdf['dst_renumbered'], mapping = cugraph.renumber(gdf['src_hash'], gdf['dst_hash'])"
   ]
  },
  {
   "cell_type": "code",
   "execution_count": 16,
   "metadata": {},
   "outputs": [
    {
     "data": {
      "text/plain": [
       "164400"
      ]
     },
     "execution_count": 16,
     "metadata": {},
     "output_type": "execute_result"
    },
    {
     "name": "stdout",
     "output_type": "stream",
     "text": [
      "time: 5.23 ms\n"
     ]
    }
   ],
   "source": [
    "gdf['src_renumbered'].nunique()"
   ]
  },
  {
   "cell_type": "code",
   "execution_count": 17,
   "metadata": {},
   "outputs": [
    {
     "data": {
      "text/plain": [
       "400000"
      ]
     },
     "execution_count": 17,
     "metadata": {},
     "output_type": "execute_result"
    },
    {
     "name": "stdout",
     "output_type": "stream",
     "text": [
      "time: 16.2 ms\n"
     ]
    }
   ],
   "source": [
    "gdf['dst_renumbered'].unique().count()"
   ]
  },
  {
   "cell_type": "code",
   "execution_count": 18,
   "metadata": {},
   "outputs": [
    {
     "data": {
      "text/html": [
       "<div>\n",
       "<style scoped>\n",
       "    .dataframe tbody tr th:only-of-type {\n",
       "        vertical-align: middle;\n",
       "    }\n",
       "\n",
       "    .dataframe tbody tr th {\n",
       "        vertical-align: top;\n",
       "    }\n",
       "\n",
       "    .dataframe thead th {\n",
       "        text-align: right;\n",
       "    }\n",
       "</style>\n",
       "<table border=\"1\" class=\"dataframe\">\n",
       "  <thead>\n",
       "    <tr style=\"text-align: right;\">\n",
       "      <th></th>\n",
       "      <th>src_str</th>\n",
       "      <th>dst_str</th>\n",
       "      <th>src_hash</th>\n",
       "      <th>dst_hash</th>\n",
       "      <th>src_renumbered</th>\n",
       "      <th>dst_renumbered</th>\n",
       "    </tr>\n",
       "  </thead>\n",
       "  <tbody>\n",
       "    <tr>\n",
       "      <th>0</th>\n",
       "      <td>ESP_PSR_100FG@@ESP_PSR_10PLANT</td>\n",
       "      <td>ESP_PSR_100FG@@ESP_PSR_10DC</td>\n",
       "      <td>1828407819</td>\n",
       "      <td>-1231339202</td>\n",
       "      <td>227673</td>\n",
       "      <td>281558</td>\n",
       "    </tr>\n",
       "    <tr>\n",
       "      <th>1</th>\n",
       "      <td>ESP_PSR_100FG@@ESP_PSR_10PLANT</td>\n",
       "      <td>ESP_PSR_100FG@@ESP_PSR_10PLANT</td>\n",
       "      <td>1828407819</td>\n",
       "      <td>1828407819</td>\n",
       "      <td>227673</td>\n",
       "      <td>227673</td>\n",
       "    </tr>\n",
       "    <tr>\n",
       "      <th>2</th>\n",
       "      <td>ESP_PSR_100FG@@ESP_PSR_10PLANT</td>\n",
       "      <td>ESP_PSR_100SEMIFG@@ESP_PSR_10PLANT</td>\n",
       "      <td>1828407819</td>\n",
       "      <td>1516831772</td>\n",
       "      <td>227673</td>\n",
       "      <td>296886</td>\n",
       "    </tr>\n",
       "    <tr>\n",
       "      <th>3</th>\n",
       "      <td>ESP_PSR_100FG@@ESP_PSR_11PLANT</td>\n",
       "      <td>ESP_PSR_100FG@@ESP_PSR_11DC</td>\n",
       "      <td>232932757</td>\n",
       "      <td>-625024697</td>\n",
       "      <td>261409</td>\n",
       "      <td>296547</td>\n",
       "    </tr>\n",
       "    <tr>\n",
       "      <th>4</th>\n",
       "      <td>ESP_PSR_100FG@@ESP_PSR_11PLANT</td>\n",
       "      <td>ESP_PSR_100FG@@ESP_PSR_11PLANT</td>\n",
       "      <td>232932757</td>\n",
       "      <td>232932757</td>\n",
       "      <td>261409</td>\n",
       "      <td>261409</td>\n",
       "    </tr>\n",
       "  </tbody>\n",
       "</table>\n",
       "</div>"
      ],
      "text/plain": [
       "                          src_str                             dst_str  \\\n",
       "0  ESP_PSR_100FG@@ESP_PSR_10PLANT         ESP_PSR_100FG@@ESP_PSR_10DC   \n",
       "1  ESP_PSR_100FG@@ESP_PSR_10PLANT      ESP_PSR_100FG@@ESP_PSR_10PLANT   \n",
       "2  ESP_PSR_100FG@@ESP_PSR_10PLANT  ESP_PSR_100SEMIFG@@ESP_PSR_10PLANT   \n",
       "3  ESP_PSR_100FG@@ESP_PSR_11PLANT         ESP_PSR_100FG@@ESP_PSR_11DC   \n",
       "4  ESP_PSR_100FG@@ESP_PSR_11PLANT      ESP_PSR_100FG@@ESP_PSR_11PLANT   \n",
       "\n",
       "     src_hash    dst_hash  src_renumbered  dst_renumbered  \n",
       "0  1828407819 -1231339202          227673          281558  \n",
       "1  1828407819  1828407819          227673          227673  \n",
       "2  1828407819  1516831772          227673          296886  \n",
       "3   232932757  -625024697          261409          296547  \n",
       "4   232932757   232932757          261409          261409  "
      ]
     },
     "execution_count": 18,
     "metadata": {},
     "output_type": "execute_result"
    },
    {
     "name": "stdout",
     "output_type": "stream",
     "text": [
      "time: 43.9 ms\n"
     ]
    }
   ],
   "source": [
    "gdf.head()"
   ]
  },
  {
   "cell_type": "code",
   "execution_count": 19,
   "metadata": {},
   "outputs": [
    {
     "name": "stdout",
     "output_type": "stream",
     "text": [
      "time: 1.79 ms\n"
     ]
    }
   ],
   "source": [
    "gpuG = cugraph.DiGraph() # cugraph.DiGraph is directed graph\n",
    "gpuG.from_cudf_edgelist(gdf, source='src_renumbered', target='dst_renumbered')"
   ]
  },
  {
   "cell_type": "code",
   "execution_count": 20,
   "metadata": {},
   "outputs": [
    {
     "name": "stdout",
     "output_type": "stream",
     "text": [
      "Gpu Graph\n",
      "\tNumber of Vertices: 404400\n",
      "\tNumber of Edges:    720768\n",
      "time: 1.96 ms\n"
     ]
    }
   ],
   "source": [
    "print(\"Gpu Graph\")\n",
    "print(\"\\tNumber of Vertices: \" + str(gpuG.number_of_vertices()))\n",
    "print(\"\\tNumber of Edges:    \" + str(gpuG.number_of_edges()))"
   ]
  },
  {
   "cell_type": "code",
   "execution_count": 21,
   "metadata": {},
   "outputs": [
    {
     "name": "stdout",
     "output_type": "stream",
     "text": [
      "time: 21.6 ms\n"
     ]
    }
   ],
   "source": [
    "gpuG_und = cugraph.Graph() # cugraph.Graph is undirected graph. Cugraph WCC currently only supports undirected graph\n",
    "gpuG_und.from_cudf_edgelist(gdf, source='src_renumbered', target='dst_renumbered')"
   ]
  },
  {
   "cell_type": "code",
   "execution_count": 22,
   "metadata": {},
   "outputs": [
    {
     "name": "stdout",
     "output_type": "stream",
     "text": [
      "time: 42.4 ms\n"
     ]
    }
   ],
   "source": [
    "wcc = cugraph.weakly_connected_components(gpuG_und)"
   ]
  },
  {
   "cell_type": "code",
   "execution_count": 23,
   "metadata": {},
   "outputs": [
    {
     "name": "stdout",
     "output_type": "stream",
     "text": [
      "Total number of components found :  16\n",
      "time: 25.1 ms\n"
     ]
    }
   ],
   "source": [
    "label_gby = wcc.groupby('labels')\n",
    "label_count = label_gby.count()\n",
    "print(\"Total number of components found : \", len(label_count))"
   ]
  },
  {
   "cell_type": "markdown",
   "metadata": {
    "colab_type": "text",
    "id": "dI_uaL7IJTW5"
   },
   "source": [
    "### NETWORKX RUN"
   ]
  },
  {
   "cell_type": "code",
   "execution_count": 24,
   "metadata": {
    "colab": {},
    "colab_type": "code",
    "id": "9S4a4Pqn7Ez5"
   },
   "outputs": [
    {
     "name": "stdout",
     "output_type": "stream",
     "text": [
      "time: 394 ms\n"
     ]
    }
   ],
   "source": [
    "import pandas as pd\n",
    "import networkx as nx\n",
    "import matplotlib.pyplot as plt"
   ]
  },
  {
   "cell_type": "code",
   "execution_count": 25,
   "metadata": {
    "colab": {},
    "colab_type": "code",
    "id": "k6VKL_qNJcsv"
   },
   "outputs": [
    {
     "name": "stdout",
     "output_type": "stream",
     "text": [
      "time: 781 ms\n"
     ]
    }
   ],
   "source": [
    "df = pd.read_csv(datafile, delimiter=\",\", names=['node_1', 'node_2'], skiprows=1)\n",
    "df.rename(columns={'node_1':'src', 'node_2':'dst'}, inplace=True)"
   ]
  },
  {
   "cell_type": "code",
   "execution_count": 26,
   "metadata": {},
   "outputs": [
    {
     "data": {
      "text/html": [
       "<div>\n",
       "<style scoped>\n",
       "    .dataframe tbody tr th:only-of-type {\n",
       "        vertical-align: middle;\n",
       "    }\n",
       "\n",
       "    .dataframe tbody tr th {\n",
       "        vertical-align: top;\n",
       "    }\n",
       "\n",
       "    .dataframe thead th {\n",
       "        text-align: right;\n",
       "    }\n",
       "</style>\n",
       "<table border=\"1\" class=\"dataframe\">\n",
       "  <thead>\n",
       "    <tr style=\"text-align: right;\">\n",
       "      <th></th>\n",
       "      <th>src</th>\n",
       "      <th>dst</th>\n",
       "    </tr>\n",
       "  </thead>\n",
       "  <tbody>\n",
       "    <tr>\n",
       "      <th>0</th>\n",
       "      <td>ESP_PSR_100FG@@ESP_PSR_10PLANT</td>\n",
       "      <td>ESP_PSR_100FG@@ESP_PSR_10DC</td>\n",
       "    </tr>\n",
       "    <tr>\n",
       "      <th>1</th>\n",
       "      <td>ESP_PSR_100FG@@ESP_PSR_10PLANT</td>\n",
       "      <td>ESP_PSR_100FG@@ESP_PSR_10PLANT</td>\n",
       "    </tr>\n",
       "    <tr>\n",
       "      <th>2</th>\n",
       "      <td>ESP_PSR_100FG@@ESP_PSR_10PLANT</td>\n",
       "      <td>ESP_PSR_100SEMIFG@@ESP_PSR_10PLANT</td>\n",
       "    </tr>\n",
       "    <tr>\n",
       "      <th>3</th>\n",
       "      <td>ESP_PSR_100FG@@ESP_PSR_11PLANT</td>\n",
       "      <td>ESP_PSR_100FG@@ESP_PSR_11DC</td>\n",
       "    </tr>\n",
       "    <tr>\n",
       "      <th>4</th>\n",
       "      <td>ESP_PSR_100FG@@ESP_PSR_11PLANT</td>\n",
       "      <td>ESP_PSR_100FG@@ESP_PSR_11PLANT</td>\n",
       "    </tr>\n",
       "  </tbody>\n",
       "</table>\n",
       "</div>"
      ],
      "text/plain": [
       "                              src                                 dst\n",
       "0  ESP_PSR_100FG@@ESP_PSR_10PLANT         ESP_PSR_100FG@@ESP_PSR_10DC\n",
       "1  ESP_PSR_100FG@@ESP_PSR_10PLANT      ESP_PSR_100FG@@ESP_PSR_10PLANT\n",
       "2  ESP_PSR_100FG@@ESP_PSR_10PLANT  ESP_PSR_100SEMIFG@@ESP_PSR_10PLANT\n",
       "3  ESP_PSR_100FG@@ESP_PSR_11PLANT         ESP_PSR_100FG@@ESP_PSR_11DC\n",
       "4  ESP_PSR_100FG@@ESP_PSR_11PLANT      ESP_PSR_100FG@@ESP_PSR_11PLANT"
      ]
     },
     "execution_count": 26,
     "metadata": {},
     "output_type": "execute_result"
    },
    {
     "name": "stdout",
     "output_type": "stream",
     "text": [
      "time: 7.5 ms\n"
     ]
    }
   ],
   "source": [
    "df.head()"
   ]
  },
  {
   "cell_type": "code",
   "execution_count": 27,
   "metadata": {},
   "outputs": [
    {
     "name": "stdout",
     "output_type": "stream",
     "text": [
      "720768\n",
      "time: 589 µs\n"
     ]
    }
   ],
   "source": [
    "print(len(df))"
   ]
  },
  {
   "cell_type": "code",
   "execution_count": 28,
   "metadata": {},
   "outputs": [
    {
     "name": "stdout",
     "output_type": "stream",
     "text": [
      "time: 637 ms\n"
     ]
    }
   ],
   "source": [
    "df['src_hash'] = df['src'].apply(hash)\n",
    "df['dst_hash'] = df['dst'].apply(hash)"
   ]
  },
  {
   "cell_type": "code",
   "execution_count": 29,
   "metadata": {},
   "outputs": [
    {
     "data": {
      "text/plain": [
       "164400"
      ]
     },
     "execution_count": 29,
     "metadata": {},
     "output_type": "execute_result"
    },
    {
     "name": "stdout",
     "output_type": "stream",
     "text": [
      "time: 25.2 ms\n"
     ]
    }
   ],
   "source": [
    "#df['src_hash'].value_counts()\n",
    "df['src_hash'].nunique()"
   ]
  },
  {
   "cell_type": "code",
   "execution_count": 30,
   "metadata": {},
   "outputs": [
    {
     "data": {
      "text/plain": [
       "400000"
      ]
     },
     "execution_count": 30,
     "metadata": {},
     "output_type": "execute_result"
    },
    {
     "name": "stdout",
     "output_type": "stream",
     "text": [
      "time: 37.6 ms\n"
     ]
    }
   ],
   "source": [
    "df['dst_hash'].nunique()"
   ]
  },
  {
   "cell_type": "code",
   "execution_count": 31,
   "metadata": {},
   "outputs": [
    {
     "data": {
      "text/html": [
       "<div>\n",
       "<style scoped>\n",
       "    .dataframe tbody tr th:only-of-type {\n",
       "        vertical-align: middle;\n",
       "    }\n",
       "\n",
       "    .dataframe tbody tr th {\n",
       "        vertical-align: top;\n",
       "    }\n",
       "\n",
       "    .dataframe thead th {\n",
       "        text-align: right;\n",
       "    }\n",
       "</style>\n",
       "<table border=\"1\" class=\"dataframe\">\n",
       "  <thead>\n",
       "    <tr style=\"text-align: right;\">\n",
       "      <th></th>\n",
       "      <th>src</th>\n",
       "      <th>dst</th>\n",
       "      <th>src_hash</th>\n",
       "      <th>dst_hash</th>\n",
       "    </tr>\n",
       "  </thead>\n",
       "  <tbody>\n",
       "    <tr>\n",
       "      <th>0</th>\n",
       "      <td>ESP_PSR_100FG@@ESP_PSR_10PLANT</td>\n",
       "      <td>ESP_PSR_100FG@@ESP_PSR_10DC</td>\n",
       "      <td>-8120110218710317506</td>\n",
       "      <td>6493039885157609027</td>\n",
       "    </tr>\n",
       "    <tr>\n",
       "      <th>1</th>\n",
       "      <td>ESP_PSR_100FG@@ESP_PSR_10PLANT</td>\n",
       "      <td>ESP_PSR_100FG@@ESP_PSR_10PLANT</td>\n",
       "      <td>-8120110218710317506</td>\n",
       "      <td>-8120110218710317506</td>\n",
       "    </tr>\n",
       "    <tr>\n",
       "      <th>2</th>\n",
       "      <td>ESP_PSR_100FG@@ESP_PSR_10PLANT</td>\n",
       "      <td>ESP_PSR_100SEMIFG@@ESP_PSR_10PLANT</td>\n",
       "      <td>-8120110218710317506</td>\n",
       "      <td>-8155104890878717737</td>\n",
       "    </tr>\n",
       "    <tr>\n",
       "      <th>3</th>\n",
       "      <td>ESP_PSR_100FG@@ESP_PSR_11PLANT</td>\n",
       "      <td>ESP_PSR_100FG@@ESP_PSR_11DC</td>\n",
       "      <td>1087440908846034202</td>\n",
       "      <td>6489779059197334226</td>\n",
       "    </tr>\n",
       "    <tr>\n",
       "      <th>4</th>\n",
       "      <td>ESP_PSR_100FG@@ESP_PSR_11PLANT</td>\n",
       "      <td>ESP_PSR_100FG@@ESP_PSR_11PLANT</td>\n",
       "      <td>1087440908846034202</td>\n",
       "      <td>1087440908846034202</td>\n",
       "    </tr>\n",
       "  </tbody>\n",
       "</table>\n",
       "</div>"
      ],
      "text/plain": [
       "                              src                                 dst  \\\n",
       "0  ESP_PSR_100FG@@ESP_PSR_10PLANT         ESP_PSR_100FG@@ESP_PSR_10DC   \n",
       "1  ESP_PSR_100FG@@ESP_PSR_10PLANT      ESP_PSR_100FG@@ESP_PSR_10PLANT   \n",
       "2  ESP_PSR_100FG@@ESP_PSR_10PLANT  ESP_PSR_100SEMIFG@@ESP_PSR_10PLANT   \n",
       "3  ESP_PSR_100FG@@ESP_PSR_11PLANT         ESP_PSR_100FG@@ESP_PSR_11DC   \n",
       "4  ESP_PSR_100FG@@ESP_PSR_11PLANT      ESP_PSR_100FG@@ESP_PSR_11PLANT   \n",
       "\n",
       "              src_hash             dst_hash  \n",
       "0 -8120110218710317506  6493039885157609027  \n",
       "1 -8120110218710317506 -8120110218710317506  \n",
       "2 -8120110218710317506 -8155104890878717737  \n",
       "3  1087440908846034202  6489779059197334226  \n",
       "4  1087440908846034202  1087440908846034202  "
      ]
     },
     "execution_count": 31,
     "metadata": {},
     "output_type": "execute_result"
    },
    {
     "name": "stdout",
     "output_type": "stream",
     "text": [
      "time: 9.45 ms\n"
     ]
    }
   ],
   "source": [
    "df.head()"
   ]
  },
  {
   "cell_type": "code",
   "execution_count": 32,
   "metadata": {
    "colab": {},
    "colab_type": "code",
    "id": "-NDnjfg-J56m"
   },
   "outputs": [
    {
     "name": "stdout",
     "output_type": "stream",
     "text": [
      "time: 3.43 s\n"
     ]
    }
   ],
   "source": [
    "cpuG=nx.from_pandas_edgelist(df, source='src_hash', target='dst_hash',create_using=nx.DiGraph)"
   ]
  },
  {
   "cell_type": "code",
   "execution_count": 33,
   "metadata": {},
   "outputs": [
    {
     "name": "stdout",
     "output_type": "stream",
     "text": [
      "cpu Graph\n",
      "\tNumber of Vertices: 404400\n",
      "\tNumber of Edges:    720768\n",
      "time: 358 ms\n"
     ]
    }
   ],
   "source": [
    "print(\"cpu Graph\")\n",
    "print(\"\\tNumber of Vertices: \" + str(cpuG.number_of_nodes()))\n",
    "print(\"\\tNumber of Edges:    \" + str(cpuG.number_of_edges()))"
   ]
  },
  {
   "cell_type": "code",
   "execution_count": 34,
   "metadata": {
    "colab": {
     "base_uri": "https://localhost:8080/",
     "height": 35
    },
    "colab_type": "code",
    "id": "nS2VoXQuKH7e",
    "outputId": "d28a2fce-2f97-4507-e0df-01b760a80131"
   },
   "outputs": [
    {
     "name": "stdout",
     "output_type": "stream",
     "text": [
      "\tNumber weakly connected components: 16\n",
      "time: 1.77 s\n"
     ]
    }
   ],
   "source": [
    "print(\"\\tNumber weakly connected components: \" + str(nx.number_weakly_connected_components(cpuG)))"
   ]
  },
  {
   "cell_type": "code",
   "execution_count": null,
   "metadata": {},
   "outputs": [],
   "source": []
  }
 ],
 "metadata": {
  "accelerator": "GPU",
  "colab": {
   "name": "400K_CuGraphVsNx.ipynb",
   "provenance": []
  },
  "kernelspec": {
   "display_name": "Python 3",
   "language": "python",
   "name": "python3"
  },
  "language_info": {
   "codemirror_mode": {
    "name": "ipython",
    "version": 3
   },
   "file_extension": ".py",
   "mimetype": "text/x-python",
   "name": "python",
   "nbconvert_exporter": "python",
   "pygments_lexer": "ipython3",
   "version": "3.6.7"
  }
 },
 "nbformat": 4,
 "nbformat_minor": 4
}
