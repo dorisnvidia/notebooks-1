{
 "cells": [
  {
   "cell_type": "code",
   "execution_count": 1,
   "metadata": {
    "colab": {
     "base_uri": "https://localhost:8080/",
     "height": 193
    },
    "colab_type": "code",
    "id": "JYe1QLpuBoKR",
    "outputId": "e242c1e2-1f76-4a78-982f-ca2b44986653"
   },
   "outputs": [
    {
     "name": "stdout",
     "output_type": "stream",
     "text": [
      "Requirement already satisfied: ipython-autotime in /opt/conda/envs/rapids/lib/python3.6/site-packages (0.1)\n"
     ]
    }
   ],
   "source": [
    "# this providing timing on every cell\n",
    "!pip install ipython-autotime\n",
    "%load_ext autotime"
   ]
  },
  {
   "cell_type": "code",
   "execution_count": 73,
   "metadata": {
    "colab": {
     "base_uri": "https://localhost:8080/",
     "height": 228
    },
    "colab_type": "code",
    "id": "kN5BnDU1BoKV",
    "outputId": "1d76d802-59a1-4c65-ff79-20a416e3d06f"
   },
   "outputs": [
    {
     "name": "stdout",
     "output_type": "stream",
     "text": [
      "time: 609 µs\n"
     ]
    }
   ],
   "source": [
    "#-- IMPORT packages\n",
    "import cudf\n",
    "import cugraph\n",
    "import numpy as np\n",
    "from collections import OrderedDict\n",
    "import time"
   ]
  },
  {
   "cell_type": "code",
   "execution_count": 79,
   "metadata": {
    "colab": {
     "base_uri": "https://localhost:8080/",
     "height": 35
    },
    "colab_type": "code",
    "id": "XGtWrSvJBoKX",
    "outputId": "53dd95e3-b793-40d3-9b0d-dcecc7e93ed5"
   },
   "outputs": [
    {
     "name": "stdout",
     "output_type": "stream",
     "text": [
      "time: 506 µs\n"
     ]
    }
   ],
   "source": [
    "start_time = time.time()"
   ]
  },
  {
   "cell_type": "code",
   "execution_count": 80,
   "metadata": {
    "colab": {
     "base_uri": "https://localhost:8080/",
     "height": 35
    },
    "colab_type": "code",
    "id": "6pW-RONVAoTo",
    "outputId": "64b85aac-1b69-44b1-d710-d0f5e14d0f06"
   },
   "outputs": [
    {
     "name": "stdout",
     "output_type": "stream",
     "text": [
      "time: 397 µs\n"
     ]
    }
   ],
   "source": [
    "df = cudf.DataFrame()"
   ]
  },
  {
   "cell_type": "code",
   "execution_count": 81,
   "metadata": {
    "colab": {
     "base_uri": "https://localhost:8080/",
     "height": 35
    },
    "colab_type": "code",
    "id": "idOjr2QPBoKa",
    "outputId": "8181825c-0f99-41ca-cbd5-fd04befab946"
   },
   "outputs": [
    {
     "name": "stdout",
     "output_type": "stream",
     "text": [
      "time: 672 µs\n"
     ]
    }
   ],
   "source": [
    "# read a data file - this works for both Nodes and Edges\n",
    "#import pandas as pd\n",
    "def read_data(f, col, dt) :\n",
    "    return cudf.read_csv(f, \n",
    "                         names=col, \n",
    "                         dtype=dt, \n",
    "                         delimiter=',', \n",
    "                         comment='#',\n",
    "                         skiprows=1,\n",
    "                         skip_blank_lines=True,\n",
    "                         skipinitialspace=True\n",
    "                        )"
   ]
  },
  {
   "cell_type": "code",
   "execution_count": 82,
   "metadata": {
    "colab": {
     "base_uri": "https://localhost:8080/",
     "height": 35
    },
    "colab_type": "code",
    "id": "tAVDGAVEBoKb",
    "outputId": "3506fe3d-3cda-47f2-ce8f-6a9d7eed7245"
   },
   "outputs": [
    {
     "name": "stdout",
     "output_type": "stream",
     "text": [
      "time: 360 µs\n"
     ]
    }
   ],
   "source": [
    "files = [\n",
    "    '../data/800K_after_concat.csv',\n",
    "#    '/content/drive/My Drive/colab data/400k_after_concat_data.csv',\n",
    "#    '/content/drive/My Drive/colab data/25K_after_concat.csv'\n",
    "]"
   ]
  },
  {
   "cell_type": "code",
   "execution_count": 83,
   "metadata": {
    "colab": {
     "base_uri": "https://localhost:8080/",
     "height": 35
    },
    "colab_type": "code",
    "id": "jycEeH_9nQ6R",
    "outputId": "75dd9b48-4f39-46ba-8bde-c3f4c736f9ba"
   },
   "outputs": [
    {
     "name": "stdout",
     "output_type": "stream",
     "text": [
      "time: 330 µs\n"
     ]
    }
   ],
   "source": [
    "start_time = time.time()"
   ]
  },
  {
   "cell_type": "code",
   "execution_count": 84,
   "metadata": {
    "colab": {
     "base_uri": "https://localhost:8080/",
     "height": 35
    },
    "colab_type": "code",
    "id": "xECF6UVX_5CX",
    "outputId": "0f5be0e0-aed3-4cfd-d457-923e6bfdea4e"
   },
   "outputs": [
    {
     "name": "stdout",
     "output_type": "stream",
     "text": [
      "time: 134 ms\n"
     ]
    }
   ],
   "source": [
    "datafile = files[0]\n",
    "raw_data = cudf.read_csv(datafile, delimiter=\",\", names=['node_1', 'node_2'], skiprows=1)\n",
    "raw_data.rename(columns={'node_1':'src_str', 'node_2':'dst_str'}, inplace=True)"
   ]
  },
  {
   "cell_type": "code",
   "execution_count": 85,
   "metadata": {},
   "outputs": [
    {
     "name": "stdout",
     "output_type": "stream",
     "text": [
      "1441536\n",
      "time: 448 µs\n"
     ]
    }
   ],
   "source": [
    "print(len(raw_data))"
   ]
  },
  {
   "cell_type": "code",
   "execution_count": 86,
   "metadata": {
    "colab": {
     "base_uri": "https://localhost:8080/",
     "height": 35
    },
    "colab_type": "code",
    "id": "kfrNFBjNBoKg",
    "outputId": "a9b49d59-e01c-454b-fe51-b51d23894114"
   },
   "outputs": [
    {
     "name": "stdout",
     "output_type": "stream",
     "text": [
      "time: 118 ms\n"
     ]
    }
   ],
   "source": [
    "# Drop duplicates\n",
    "raw_data = raw_data.drop_duplicates()"
   ]
  },
  {
   "cell_type": "code",
   "execution_count": 87,
   "metadata": {},
   "outputs": [
    {
     "name": "stdout",
     "output_type": "stream",
     "text": [
      "1441536\n",
      "time: 437 µs\n"
     ]
    }
   ],
   "source": [
    "print(len(raw_data))"
   ]
  },
  {
   "cell_type": "markdown",
   "metadata": {
    "colab_type": "text",
    "id": "gS0vUi9vj5qP"
   },
   "source": [
    "**Workaround for existing code as str.hash() is not working properly**"
   ]
  },
  {
   "cell_type": "code",
   "execution_count": 88,
   "metadata": {
    "colab": {
     "base_uri": "https://localhost:8080/",
     "height": 35
    },
    "colab_type": "code",
    "id": "S_VaM-iVj4cW",
    "outputId": "ae205334-6746-4da5-bc6b-c04d73bc76fe"
   },
   "outputs": [
    {
     "name": "stdout",
     "output_type": "stream",
     "text": [
      "time: 95.5 ms\n"
     ]
    }
   ],
   "source": [
    "new_series=cudf.concat([raw_data['src_str'],raw_data['dst_str']])\n",
    "temp = new_series.hash_values()\n",
    "raw_data['src_hash'] = temp[:len(raw_data)]\n",
    "raw_data['dst_hash'] = temp[len(raw_data):]"
   ]
  },
  {
   "cell_type": "code",
   "execution_count": 89,
   "metadata": {
    "colab": {
     "base_uri": "https://localhost:8080/",
     "height": 35
    },
    "colab_type": "code",
    "id": "SYrtZhFlBoKk",
    "outputId": "2a428fc5-c7c4-4f8e-b11b-555d2142bd99"
   },
   "outputs": [
    {
     "name": "stdout",
     "output_type": "stream",
     "text": [
      "time: 270 µs\n"
     ]
    }
   ],
   "source": [
    "# Create vertex IDs\n",
    "# The data has the nodes IDs as string, we need that to be intergers \n",
    "#raw_data['src_hash'] = raw_data['src_str'].str.hash()\n",
    "#raw_data['dst_hash'] = raw_data['dst_str'].str.hash()"
   ]
  },
  {
   "cell_type": "code",
   "execution_count": 90,
   "metadata": {
    "colab": {
     "base_uri": "https://localhost:8080/",
     "height": 35
    },
    "colab_type": "code",
    "id": "MwXNyCr2BoKn",
    "outputId": "4d15e3b1-3181-45f2-dee3-77fe835f9b95",
    "scrolled": true
   },
   "outputs": [
    {
     "name": "stdout",
     "output_type": "stream",
     "text": [
      "time: 9.05 ms\n"
     ]
    }
   ],
   "source": [
    "# Renumber the hash values to a smaller contiguous range \n",
    "raw_data['src'], raw_data['dst'], N = cugraph.renumber(raw_data['src_hash'], raw_data['dst_hash'])"
   ]
  },
  {
   "cell_type": "code",
   "execution_count": 91,
   "metadata": {},
   "outputs": [
    {
     "name": "stdout",
     "output_type": "stream",
     "text": [
      "time: 386 µs\n"
     ]
    }
   ],
   "source": [
    "graphtime = time.time()"
   ]
  },
  {
   "cell_type": "code",
   "execution_count": 92,
   "metadata": {
    "colab": {
     "base_uri": "https://localhost:8080/",
     "height": 35
    },
    "colab_type": "code",
    "id": "6FSrYE_eBoKx",
    "outputId": "b287cda2-5196-4a46-d5f7-ef1151d83d9d"
   },
   "outputs": [
    {
     "name": "stdout",
     "output_type": "stream",
     "text": [
      "time: 18.8 ms\n"
     ]
    }
   ],
   "source": [
    "### Now build the Graph\n",
    "G = cugraph.Graph() # Graph() is undirected graph\n",
    "G.add_edge_list(raw_data['src'], raw_data['dst'])"
   ]
  },
  {
   "cell_type": "code",
   "execution_count": 93,
   "metadata": {},
   "outputs": [
    {
     "name": "stdout",
     "output_type": "stream",
     "text": [
      "Gpu Graph\n",
      "\tNumber of Vertices: 808800\n",
      "\tNumber of Edges:    2563072\n",
      "time: 1.27 ms\n"
     ]
    }
   ],
   "source": [
    "print(\"Gpu Graph\")\n",
    "print(\"\\tNumber of Vertices: \" + str(G.number_of_vertices()))\n",
    "print(\"\\tNumber of Edges:    \" + str(G.number_of_edges()))"
   ]
  },
  {
   "cell_type": "code",
   "execution_count": 100,
   "metadata": {
    "colab": {
     "base_uri": "https://localhost:8080/",
     "height": 52
    },
    "colab_type": "code",
    "id": "6jOYmjjKBoK0",
    "outputId": "d1d08e1f-ae90-47ed-9c72-728f80c9f15b"
   },
   "outputs": [
    {
     "name": "stdout",
     "output_type": "stream",
     "text": [
      "Time taken to partition the skus : 431.94613575935364 seconds\n",
      "time: 46.2 ms\n"
     ]
    }
   ],
   "source": [
    "# get a list of vertices\n",
    "wcc = cugraph.weakly_connected_components(G)\n",
    "print (\"Time taken to partition the skus : \" + str(time.time() - graphtime) + \" seconds\")"
   ]
  },
  {
   "cell_type": "code",
   "execution_count": 103,
   "metadata": {},
   "outputs": [
    {
     "data": {
      "text/plain": [
       "RangeIndex(start=0, stop=808800)"
      ]
     },
     "execution_count": 103,
     "metadata": {},
     "output_type": "execute_result"
    },
    {
     "name": "stdout",
     "output_type": "stream",
     "text": [
      "time: 2.32 ms\n"
     ]
    }
   ],
   "source": [
    "wcc.index"
   ]
  },
  {
   "cell_type": "code",
   "execution_count": 95,
   "metadata": {
    "colab": {
     "base_uri": "https://localhost:8080/",
     "height": 35
    },
    "colab_type": "code",
    "id": "o6jATmu3C4aH",
    "outputId": "390d143b-6f7a-409d-ec92-775b6c0997e9"
   },
   "outputs": [
    {
     "name": "stdout",
     "output_type": "stream",
     "text": [
      "time: 225 µs\n"
     ]
    }
   ],
   "source": [
    "#label_gby = wcc.groupby('labels')\n",
    "#label_count = label_gby.count()"
   ]
  },
  {
   "cell_type": "code",
   "execution_count": 96,
   "metadata": {
    "colab": {
     "base_uri": "https://localhost:8080/",
     "height": 35
    },
    "colab_type": "code",
    "id": "h0p-mNpBBoK3",
    "outputId": "4deba790-83bb-4dc2-8072-09fb75da9f8d"
   },
   "outputs": [
    {
     "name": "stdout",
     "output_type": "stream",
     "text": [
      "time: 1.41 ms\n"
     ]
    }
   ],
   "source": [
    "extract_time = time.time()\n",
    "wcc['vertex'] = wcc.index"
   ]
  },
  {
   "cell_type": "code",
   "execution_count": 97,
   "metadata": {},
   "outputs": [
    {
     "data": {
      "text/html": [
       "<div>\n",
       "<style scoped>\n",
       "    .dataframe tbody tr th:only-of-type {\n",
       "        vertical-align: middle;\n",
       "    }\n",
       "\n",
       "    .dataframe tbody tr th {\n",
       "        vertical-align: top;\n",
       "    }\n",
       "\n",
       "    .dataframe thead th {\n",
       "        text-align: right;\n",
       "    }\n",
       "</style>\n",
       "<table border=\"1\" class=\"dataframe\">\n",
       "  <thead>\n",
       "    <tr style=\"text-align: right;\">\n",
       "      <th></th>\n",
       "      <th>labels</th>\n",
       "      <th>vertices</th>\n",
       "      <th>vertex</th>\n",
       "    </tr>\n",
       "  </thead>\n",
       "  <tbody>\n",
       "    <tr>\n",
       "      <th>0</th>\n",
       "      <td>1</td>\n",
       "      <td>0</td>\n",
       "      <td>0</td>\n",
       "    </tr>\n",
       "    <tr>\n",
       "      <th>1</th>\n",
       "      <td>2</td>\n",
       "      <td>1</td>\n",
       "      <td>1</td>\n",
       "    </tr>\n",
       "    <tr>\n",
       "      <th>2</th>\n",
       "      <td>3</td>\n",
       "      <td>2</td>\n",
       "      <td>2</td>\n",
       "    </tr>\n",
       "    <tr>\n",
       "      <th>3</th>\n",
       "      <td>4</td>\n",
       "      <td>3</td>\n",
       "      <td>3</td>\n",
       "    </tr>\n",
       "    <tr>\n",
       "      <th>4</th>\n",
       "      <td>5</td>\n",
       "      <td>4</td>\n",
       "      <td>4</td>\n",
       "    </tr>\n",
       "  </tbody>\n",
       "</table>\n",
       "</div>"
      ],
      "text/plain": [
       "   labels  vertices  vertex\n",
       "0       1         0       0\n",
       "1       2         1       1\n",
       "2       3         2       2\n",
       "3       4         3       3\n",
       "4       5         4       4"
      ]
     },
     "execution_count": 97,
     "metadata": {},
     "output_type": "execute_result"
    },
    {
     "name": "stdout",
     "output_type": "stream",
     "text": [
      "time: 38.1 ms\n"
     ]
    }
   ],
   "source": [
    "wcc.head()"
   ]
  },
  {
   "cell_type": "code",
   "execution_count": 98,
   "metadata": {
    "colab": {
     "base_uri": "https://localhost:8080/",
     "height": 35
    },
    "colab_type": "code",
    "id": "z3kRPuFTBoK_",
    "outputId": "87f5e6c5-c915-41b0-b61f-1f4237e55bd6"
   },
   "outputs": [
    {
     "ename": "NameError",
     "evalue": "name 'src_side' is not defined",
     "output_type": "error",
     "traceback": [
      "\u001b[0;31m---------------------------------------------------------------------------\u001b[0m",
      "\u001b[0;31mNameError\u001b[0m                                 Traceback (most recent call last)",
      "\u001b[0;32m<ipython-input-98-f69c6c4b4419>\u001b[0m in \u001b[0;36m<module>\u001b[0;34m\u001b[0m\n\u001b[1;32m      8\u001b[0m \u001b[0;34m\u001b[0m\u001b[0m\n\u001b[1;32m      9\u001b[0m \u001b[0manswer\u001b[0m \u001b[0;34m=\u001b[0m \u001b[0mcudf\u001b[0m\u001b[0;34m.\u001b[0m\u001b[0mDataFrame\u001b[0m\u001b[0;34m(\u001b[0m\u001b[0;34m)\u001b[0m\u001b[0;34m\u001b[0m\u001b[0;34m\u001b[0m\u001b[0m\n\u001b[0;32m---> 10\u001b[0;31m \u001b[0manswer\u001b[0m \u001b[0;34m=\u001b[0m \u001b[0mcudf\u001b[0m\u001b[0;34m.\u001b[0m\u001b[0mconcat\u001b[0m\u001b[0;34m(\u001b[0m\u001b[0;34m[\u001b[0m\u001b[0msrc_side\u001b[0m\u001b[0;34m,\u001b[0m \u001b[0mdst_side\u001b[0m\u001b[0;34m]\u001b[0m\u001b[0;34m)\u001b[0m\u001b[0;34m\u001b[0m\u001b[0;34m\u001b[0m\u001b[0m\n\u001b[0m\u001b[1;32m     11\u001b[0m \u001b[0manswer\u001b[0m \u001b[0;34m=\u001b[0m \u001b[0manswer\u001b[0m\u001b[0;34m.\u001b[0m\u001b[0mdrop_duplicates\u001b[0m\u001b[0;34m(\u001b[0m\u001b[0;34m)\u001b[0m\u001b[0;34m\u001b[0m\u001b[0;34m\u001b[0m\u001b[0m\n\u001b[1;32m     12\u001b[0m \u001b[0;34m\u001b[0m\u001b[0m\n",
      "\u001b[0;31mNameError\u001b[0m: name 'src_side' is not defined"
     ]
    },
    {
     "name": "stdout",
     "output_type": "stream",
     "text": [
      "time: 9.03 ms\n"
     ]
    }
   ],
   "source": [
    "#src_side = cudf.DataFrame()\n",
    "#src_side['node']   = raw_data['src_str']\n",
    "#src_side['vertex'] = raw_data['src'].astype(np.int64)\n",
    "\n",
    "#dst_side = cudf.DataFrame()\n",
    "#dst_side['node']   = raw_data['dst_str']\n",
    "#dst_side['vertex'] = raw_data['dst'].astype(np.int64)\n",
    "\n",
    "answer = cudf.DataFrame()\n",
    "answer = cudf.concat([raw_data['src_str'], raw_datade])\n",
    "answer = answer.drop_duplicates()\n",
    "\n",
    "#del src_side\n",
    "#del dst_side"
   ]
  },
  {
   "cell_type": "code",
   "execution_count": 99,
   "metadata": {
    "colab": {
     "base_uri": "https://localhost:8080/",
     "height": 35
    },
    "colab_type": "code",
    "id": "emEuzBdJBoLB",
    "outputId": "6b2d4629-73e0-4300-b055-7a645f637181"
   },
   "outputs": [
    {
     "ename": "ValueError",
     "evalue": "'vertex' is not in list",
     "output_type": "error",
     "traceback": [
      "\u001b[0;31m---------------------------------------------------------------------------\u001b[0m",
      "\u001b[0;31mValueError\u001b[0m                                Traceback (most recent call last)",
      "\u001b[0;32m<ipython-input-99-0c5e1596157f>\u001b[0m in \u001b[0;36m<module>\u001b[0;34m\u001b[0m\n\u001b[0;32m----> 1\u001b[0;31m \u001b[0ma\u001b[0m \u001b[0;34m=\u001b[0m \u001b[0mwcc\u001b[0m\u001b[0;34m.\u001b[0m\u001b[0mmerge\u001b[0m\u001b[0;34m(\u001b[0m\u001b[0manswer\u001b[0m\u001b[0;34m,\u001b[0m \u001b[0mon\u001b[0m\u001b[0;34m=\u001b[0m\u001b[0;34m'vertex'\u001b[0m\u001b[0;34m,\u001b[0m \u001b[0mhow\u001b[0m\u001b[0;34m=\u001b[0m\u001b[0;34m'left'\u001b[0m\u001b[0;34m)\u001b[0m\u001b[0;34m\u001b[0m\u001b[0;34m\u001b[0m\u001b[0m\n\u001b[0m\u001b[1;32m      2\u001b[0m \u001b[0ma\u001b[0m \u001b[0;34m=\u001b[0m \u001b[0ma\u001b[0m\u001b[0;34m.\u001b[0m\u001b[0mdrop_duplicates\u001b[0m\u001b[0;34m(\u001b[0m\u001b[0;34m)\u001b[0m\u001b[0;34m\u001b[0m\u001b[0;34m\u001b[0m\u001b[0m\n\u001b[1;32m      3\u001b[0m \u001b[0ma\u001b[0m \u001b[0;34m=\u001b[0m \u001b[0ma\u001b[0m\u001b[0;34m.\u001b[0m\u001b[0msort_values\u001b[0m\u001b[0;34m(\u001b[0m\u001b[0mby\u001b[0m\u001b[0;34m=\u001b[0m\u001b[0;34m'labels'\u001b[0m\u001b[0;34m,\u001b[0m \u001b[0mascending\u001b[0m\u001b[0;34m=\u001b[0m\u001b[0;32mTrue\u001b[0m\u001b[0;34m)\u001b[0m\u001b[0;34m\u001b[0m\u001b[0;34m\u001b[0m\u001b[0m\n",
      "\u001b[0;32m/opt/conda/envs/rapids/lib/python3.6/site-packages/cudf/core/dataframe.py\u001b[0m in \u001b[0;36mmerge\u001b[0;34m(self, right, on, how, left_on, right_on, left_index, right_index, sort, lsuffix, rsuffix, type, method, indicator, suffixes)\u001b[0m\n\u001b[1;32m   2471\u001b[0m         \u001b[0;31m# Compute merge\u001b[0m\u001b[0;34m\u001b[0m\u001b[0;34m\u001b[0m\u001b[0;34m\u001b[0m\u001b[0m\n\u001b[1;32m   2472\u001b[0m         gdf_result = libcudf.join.join(\n\u001b[0;32m-> 2473\u001b[0;31m             \u001b[0mlhs\u001b[0m\u001b[0;34m.\u001b[0m\u001b[0m_cols\u001b[0m\u001b[0;34m,\u001b[0m \u001b[0mrhs\u001b[0m\u001b[0;34m.\u001b[0m\u001b[0m_cols\u001b[0m\u001b[0;34m,\u001b[0m \u001b[0mleft_on\u001b[0m\u001b[0;34m,\u001b[0m \u001b[0mright_on\u001b[0m\u001b[0;34m,\u001b[0m \u001b[0mhow\u001b[0m\u001b[0;34m,\u001b[0m \u001b[0mmethod\u001b[0m\u001b[0;34m\u001b[0m\u001b[0;34m\u001b[0m\u001b[0m\n\u001b[0m\u001b[1;32m   2474\u001b[0m         )\n\u001b[1;32m   2475\u001b[0m \u001b[0;34m\u001b[0m\u001b[0m\n",
      "\u001b[0;32mcudf/_lib/join.pyx\u001b[0m in \u001b[0;36mcudf._lib.join.join\u001b[0;34m()\u001b[0m\n",
      "\u001b[0;32mcudf/_lib/join.pyx\u001b[0m in \u001b[0;36mcudf._lib.join.join\u001b[0;34m()\u001b[0m\n",
      "\u001b[0;31mValueError\u001b[0m: 'vertex' is not in list"
     ]
    },
    {
     "name": "stdout",
     "output_type": "stream",
     "text": [
      "time: 15.9 ms\n"
     ]
    }
   ],
   "source": [
    "a = wcc.merge(answer, on='vertex', how='left')\n",
    "a = a.drop_duplicates()\n",
    "a = a.sort_values(by='labels', ascending=True)"
   ]
  },
  {
   "cell_type": "code",
   "execution_count": 78,
   "metadata": {},
   "outputs": [
    {
     "data": {
      "text/html": [
       "<div>\n",
       "<style scoped>\n",
       "    .dataframe tbody tr th:only-of-type {\n",
       "        vertical-align: middle;\n",
       "    }\n",
       "\n",
       "    .dataframe tbody tr th {\n",
       "        vertical-align: top;\n",
       "    }\n",
       "\n",
       "    .dataframe thead th {\n",
       "        text-align: right;\n",
       "    }\n",
       "</style>\n",
       "<table border=\"1\" class=\"dataframe\">\n",
       "  <thead>\n",
       "    <tr style=\"text-align: right;\">\n",
       "      <th></th>\n",
       "      <th>labels</th>\n",
       "      <th>vertices</th>\n",
       "      <th>vertex</th>\n",
       "      <th>node</th>\n",
       "    </tr>\n",
       "  </thead>\n",
       "  <tbody>\n",
       "    <tr>\n",
       "      <th>51104</th>\n",
       "      <td>1</td>\n",
       "      <td>0</td>\n",
       "      <td>0</td>\n",
       "      <td>ESP_PSR_110COMP1_19@@ESP_PSR_15PLANT_19</td>\n",
       "    </tr>\n",
       "    <tr>\n",
       "      <th>51126</th>\n",
       "      <td>1</td>\n",
       "      <td>22</td>\n",
       "      <td>22</td>\n",
       "      <td>ESP_PSR_24FG_19@@ESP_PSR_13DC_19</td>\n",
       "    </tr>\n",
       "    <tr>\n",
       "      <th>10568</th>\n",
       "      <td>1</td>\n",
       "      <td>40</td>\n",
       "      <td>40</td>\n",
       "      <td>ESP_PSR_47RES_19@@dummy</td>\n",
       "    </tr>\n",
       "    <tr>\n",
       "      <th>78222</th>\n",
       "      <td>1</td>\n",
       "      <td>78</td>\n",
       "      <td>78</td>\n",
       "      <td>ESP_PSR_81FG_19@@ESP_PSR_19PLANT_19</td>\n",
       "    </tr>\n",
       "    <tr>\n",
       "      <th>36917</th>\n",
       "      <td>1</td>\n",
       "      <td>117</td>\n",
       "      <td>117</td>\n",
       "      <td>ESP_PSR_35FG_19@@ESP_PSR_12PLANT_19</td>\n",
       "    </tr>\n",
       "  </tbody>\n",
       "</table>\n",
       "</div>"
      ],
      "text/plain": [
       "       labels  vertices  vertex                                     node\n",
       "51104       1         0       0  ESP_PSR_110COMP1_19@@ESP_PSR_15PLANT_19\n",
       "51126       1        22      22         ESP_PSR_24FG_19@@ESP_PSR_13DC_19\n",
       "10568       1        40      40                  ESP_PSR_47RES_19@@dummy\n",
       "78222       1        78      78      ESP_PSR_81FG_19@@ESP_PSR_19PLANT_19\n",
       "36917       1       117     117      ESP_PSR_35FG_19@@ESP_PSR_12PLANT_19"
      ]
     },
     "execution_count": 78,
     "metadata": {},
     "output_type": "execute_result"
    },
    {
     "name": "stdout",
     "output_type": "stream",
     "text": [
      "time: 31.4 ms\n"
     ]
    }
   ],
   "source": [
    "a.head()"
   ]
  },
  {
   "cell_type": "code",
   "execution_count": null,
   "metadata": {
    "colab": {
     "base_uri": "https://localhost:8080/",
     "height": 69
    },
    "colab_type": "code",
    "id": "XrTc85sRBoLF",
    "outputId": "a9605dd5-c6cf-4b28-e537-db26d055af46"
   },
   "outputs": [
    {
     "name": "stdout",
     "output_type": "stream",
     "text": [
      "Time taken to extract connected skus :0.6352226734161377 seconds\n",
      "Time taken from import csv to extract connected skus :4.768831014633179 seconds\n",
      "time: 2.22 ms\n"
     ]
    }
   ],
   "source": [
    "print (\"Time taken to extract connected skus :\" + str(time.time() - extract_time) + \" seconds\")\n",
    "print (\"Time taken from import csv to extract connected skus :\" + str(time.time() - start_time) + \" seconds\")"
   ]
  },
  {
   "cell_type": "code",
   "execution_count": null,
   "metadata": {
    "colab": {
     "base_uri": "https://localhost:8080/",
     "height": 52
    },
    "colab_type": "code",
    "id": "jfa1XUscBoLJ",
    "outputId": "3bbe6d6e-e6c4-45d7-bd57-53b877a691c0"
   },
   "outputs": [
    {
     "name": "stdout",
     "output_type": "stream",
     "text": [
      "detected 32 components\n",
      "time: 536 ms\n"
     ]
    }
   ],
   "source": [
    "print (\"detected \" + str( len(wcc['labels'].unique()) ) + \" components\")"
   ]
  },
  {
   "cell_type": "markdown",
   "metadata": {
    "colab_type": "text",
    "id": "IHb7JJOsAFnG"
   },
   "source": [
    "**NETWORKX RUN**"
   ]
  },
  {
   "cell_type": "code",
   "execution_count": 39,
   "metadata": {
    "colab": {
     "base_uri": "https://localhost:8080/",
     "height": 35
    },
    "colab_type": "code",
    "id": "bXLqQ0CrATYr",
    "outputId": "bace6d3b-51fb-49d6-d38d-30ec619353d3"
   },
   "outputs": [
    {
     "name": "stdout",
     "output_type": "stream",
     "text": [
      "time: 528 µs\n"
     ]
    }
   ],
   "source": [
    "import pandas as pd\n",
    "import networkx as nx\n",
    "import matplotlib.pyplot as plt"
   ]
  },
  {
   "cell_type": "code",
   "execution_count": 40,
   "metadata": {
    "colab": {
     "base_uri": "https://localhost:8080/",
     "height": 35
    },
    "colab_type": "code",
    "id": "REw83DRjAXw7",
    "outputId": "83bc5199-4d77-402b-bafa-cbf26d130002"
   },
   "outputs": [
    {
     "name": "stdout",
     "output_type": "stream",
     "text": [
      "time: 1.35 s\n"
     ]
    }
   ],
   "source": [
    "start_time = time.time()\n",
    "datafile = files[0]\n",
    "df = pd.read_csv(datafile, delimiter=\",\", names=['node_1', 'node_2'], skiprows=1)\n",
    "df.rename(columns={'node_1':'src', 'node_2':'dst'}, inplace=True)"
   ]
  },
  {
   "cell_type": "code",
   "execution_count": 41,
   "metadata": {
    "colab": {
     "base_uri": "https://localhost:8080/",
     "height": 35
    },
    "colab_type": "code",
    "id": "pevH30HwI7FU",
    "outputId": "66a6c161-6e5e-448e-b6ff-c72393e8e120"
   },
   "outputs": [
    {
     "name": "stdout",
     "output_type": "stream",
     "text": [
      "time: 425 µs\n"
     ]
    }
   ],
   "source": [
    "graph_time = time.time()"
   ]
  },
  {
   "cell_type": "code",
   "execution_count": 42,
   "metadata": {
    "colab": {
     "base_uri": "https://localhost:8080/",
     "height": 69
    },
    "colab_type": "code",
    "id": "JpgIdMpKAcag",
    "outputId": "b46d5f8a-49b2-49ac-e360-39d6ec229d67"
   },
   "outputs": [
    {
     "name": "stdout",
     "output_type": "stream",
     "text": [
      "Time taken to partition the skus  6.696590185165405\n",
      "\n",
      "time: 6.69 s\n"
     ]
    }
   ],
   "source": [
    "cpuG=nx.from_pandas_edgelist(df, source='src', target='dst',create_using=nx.DiGraph)\n",
    "msg = \"Time taken to partition the skus  \" + str(time.time() - graph_time) + \"\\n\"\n",
    "print(msg)"
   ]
  },
  {
   "cell_type": "code",
   "execution_count": 43,
   "metadata": {
    "colab": {
     "base_uri": "https://localhost:8080/",
     "height": 69
    },
    "colab_type": "code",
    "id": "zMn7c-v9BQgc",
    "outputId": "057705aa-3409-4c7e-d280-5e23c43a2ad0"
   },
   "outputs": [
    {
     "name": "stdout",
     "output_type": "stream",
     "text": [
      "Time taken to extract connected skus  3.211749315261841\n",
      "\n",
      "time: 3.21 s\n"
     ]
    }
   ],
   "source": [
    "extract_time = time.time()\n",
    "connectedskus = sorted(nx.weakly_connected_components(cpuG), key=len, reverse=True)\n",
    "nodeslist = []\n",
    "batchnum = 0\n",
    "for consku in connectedskus:\n",
    "  batchnum = batchnum + 1\n",
    "  for val in consku:\n",
    "          splitsku = val.split(\"@@\")\n",
    "          skuname = splitsku[0]\n",
    "          locname = splitsku[1]\n",
    "          t = (skuname, locname, batchnum)\n",
    "          nodeslist.append(t)\n",
    "\n",
    "msg = \"Time taken to extract connected skus  \" + str(time.time() - extract_time) + \"\\n\"\n",
    "print(msg)"
   ]
  },
  {
   "cell_type": "code",
   "execution_count": 44,
   "metadata": {
    "colab": {
     "base_uri": "https://localhost:8080/",
     "height": 52
    },
    "colab_type": "code",
    "id": "Cd81XbPhCAB-",
    "outputId": "9d26e9ca-74c8-45a1-a50b-2cacdf56c7c6"
   },
   "outputs": [
    {
     "name": "stdout",
     "output_type": "stream",
     "text": [
      "Time taken from import csv to extract connected skus :11.274402379989624 seconds\n",
      "time: 616 µs\n"
     ]
    }
   ],
   "source": [
    "print (\"Time taken from import csv to extract connected skus :\" + str(time.time() - start_time) + \" seconds\")"
   ]
  },
  {
   "cell_type": "code",
   "execution_count": null,
   "metadata": {},
   "outputs": [],
   "source": []
  },
  {
   "cell_type": "code",
   "execution_count": null,
   "metadata": {},
   "outputs": [],
   "source": []
  }
 ],
 "metadata": {
  "accelerator": "GPU",
  "colab": {
   "collapsed_sections": [],
   "name": "CugraphvsNX_800K.ipynb",
   "provenance": []
  },
  "kernelspec": {
   "display_name": "Python 3",
   "language": "python",
   "name": "python3"
  },
  "language_info": {
   "codemirror_mode": {
    "name": "ipython",
    "version": 3
   },
   "file_extension": ".py",
   "mimetype": "text/x-python",
   "name": "python",
   "nbconvert_exporter": "python",
   "pygments_lexer": "ipython3",
   "version": "3.6.7"
  }
 },
 "nbformat": 4,
 "nbformat_minor": 4
}
