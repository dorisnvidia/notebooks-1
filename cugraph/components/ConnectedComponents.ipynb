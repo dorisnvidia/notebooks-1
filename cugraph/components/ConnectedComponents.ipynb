{
 "cells": [
  {
   "cell_type": "markdown",
   "metadata": {},
   "source": [
    "# Connected Components\n",
    "\n",
    "Calculating weakly connected component is often a necessary pre-processing step for many graph algorithms. Quite often running a graph algorithm only on one component of a disconnected graph can lead to bugs which are not easy to trace.\n",
    "Strongly connected components is used in the early stages of graph analysis to get an idea of a graph's structure.\n",
    "\n",
    "In this notebook, we will use cuGraph to compute weakly and strongly connected components of a graph and display some useful information about the resulting components.\n",
    "\n",
    "\n",
    "Notebook Credits\n",
    "* Original Authors: Kumar Aatish\n",
    "* Last Edit: 08/13/2019\n",
    "\n",
    "RAPIDS Versions: 0.9.0    \n",
    "\n",
    "Test Hardware\n",
    "\n",
    "* GV100 32G, CUDA 10.0\n",
    "\n",
    "\n",
    "\n",
    "## Introduction\n",
    "\n",
    "To compute WCC for a graph in cuGraph we use:\n",
    "**cugraph.weakly_connected_components(G)**\n",
    "\n",
    "To compute SCC for a graph in cuGraph we use:\n",
    "**cugraph.strongly_connected_components(G)**\n",
    "\n",
    "Both of these calls have identical api:  \n",
    "\n",
    "Input\n",
    "* __G__: cugraph.Graph object\n",
    "\n",
    "Returns \n",
    "* __df__:  a cudf.DataFrame object with two columns:\n",
    "    * df['labels'][i]: Gives the label id of the i'th vertex\n",
    "    * df['vertices'][i]: Gives the vertex id of the i'th vertex\n",
    "\n",
    "\n",
    "## cuGraph Notice \n",
    "The current version of cuGraph has some limitations:\n",
    "\n",
    "* Vertex IDs need to be 32-bit integers.\n",
    "* Vertex IDs are expected to be contiguous integers starting from 0.\n",
    "\n",
    "cuGraph provides the renumber function to mitigate this problem. Input vertex IDs for the renumber function can be either 32-bit or 64-bit integers, can be non-contiguous, and can start from an arbitrary number. The renumber function maps the provided input vertex IDs to 32-bit contiguous integers starting from 0. cuGraph still requires the renumbered vertex IDs to be representable in 32-bit integers. These limitations are being addressed and will be fixed soon."
   ]
  },
  {
   "cell_type": "markdown",
   "metadata": {},
   "source": [
    "### Test Data\n",
    "We will be using the Netscience dataset :  \n",
    "*M. E. J. Newman, Finding community structure in networks using the eigenvectors of matrices, Preprint physics/0605087 (2006)*\n",
    "\n",
    "The graph netscience contains a coauthorship network of scientists working on network theory and experiment. The version given here contains all components of the network, for a total of 1589 scientists, with the the largest component of 379 scientists.\n",
    "\n",
    "Netscience Adjacency Matrix               |NetScience Strongly Connected Components\n",
    ":-----------------------------------------|--------------------------------------------------:\n",
    "![](./img/netscience.png \"Credit : https://www.cise.ufl.edu/research/sparse/matrices/Newman/netscience\") | ![](./img/netscience_scc.png \"Credit : https://www.cise.ufl.edu/research/sparse/matrices/Newman/netscience\")\n",
    "  \n",
    "Matrix plots above by Yifan Hu, AT&T Labs Visualization Group."
   ]
  },
  {
   "cell_type": "code",
   "execution_count": 1,
   "metadata": {},
   "outputs": [],
   "source": [
    "# Import needed libraries\n",
    "import cugraph\n",
    "import cudf\n",
    "import numpy as np\n",
    "from collections import OrderedDict"
   ]
  },
  {
   "cell_type": "markdown",
   "metadata": {},
   "source": [
    "### 1. Read graph data from file\n",
    "\n",
    "cuGraph depends on cuDF for data loading and the initial Dataframe creation on the GPU.\n",
    "\n",
    "The data file contains an edge list, which represents the connection of a vertex to another. The source to destination pairs is in what is known as Coordinate Format (COO).\n",
    "\n",
    "In this test case the data in the test file is expressed in three columns, source, destination and the edge weight. While edge weight is relevant in other algorithms, cuGraph connected component calls do not make use of it and hence that column can be discarded from the dataframe."
   ]
  },
  {
   "cell_type": "code",
   "execution_count": 2,
   "metadata": {},
   "outputs": [
    {
     "data": {
      "text/html": [
       "<div>\n",
       "<style scoped>\n",
       "    .dataframe tbody tr th:only-of-type {\n",
       "        vertical-align: middle;\n",
       "    }\n",
       "\n",
       "    .dataframe tbody tr th {\n",
       "        vertical-align: top;\n",
       "    }\n",
       "\n",
       "    .dataframe thead th {\n",
       "        text-align: right;\n",
       "    }\n",
       "</style>\n",
       "<table border=\"1\" class=\"dataframe\">\n",
       "  <thead>\n",
       "    <tr style=\"text-align: right;\">\n",
       "      <th></th>\n",
       "      <th>src</th>\n",
       "      <th>dst</th>\n",
       "    </tr>\n",
       "  </thead>\n",
       "  <tbody>\n",
       "    <tr>\n",
       "      <th>0</th>\n",
       "      <td>1</td>\n",
       "      <td>0</td>\n",
       "    </tr>\n",
       "    <tr>\n",
       "      <th>1</th>\n",
       "      <td>1084</td>\n",
       "      <td>0</td>\n",
       "    </tr>\n",
       "    <tr>\n",
       "      <th>2</th>\n",
       "      <td>946</td>\n",
       "      <td>1</td>\n",
       "    </tr>\n",
       "    <tr>\n",
       "      <th>3</th>\n",
       "      <td>1084</td>\n",
       "      <td>1</td>\n",
       "    </tr>\n",
       "    <tr>\n",
       "      <th>4</th>\n",
       "      <td>3</td>\n",
       "      <td>2</td>\n",
       "    </tr>\n",
       "  </tbody>\n",
       "</table>\n",
       "</div>"
      ],
      "text/plain": [
       "    src  dst\n",
       "0     1    0\n",
       "1  1084    0\n",
       "2   946    1\n",
       "3  1084    1\n",
       "4     3    2"
      ]
     },
     "execution_count": 2,
     "metadata": {},
     "output_type": "execute_result"
    }
   ],
   "source": [
    "# Test file\n",
    "datafile='./data/netscience.csv'\n",
    "\n",
    "# Read the data file\n",
    "cols = [\"src\", \"dst\", \"wgt\"]\n",
    "\n",
    "dtypes = OrderedDict([\n",
    "        (\"src\", \"int32\"), \n",
    "        (\"dst\", \"int32\"),\n",
    "        (\"wgt\", \"float32\")\n",
    "        ])\n",
    "\n",
    "#Discard 'wgt' column from file\n",
    "usecols = [\"src\", \"dst\"]\n",
    "gdf = cudf.read_csv(datafile, names=cols, usecols = usecols, delimiter=' ', dtype=list(dtypes.values()) )\n",
    "gdf.head().to_pandas()"
   ]
  },
  {
   "cell_type": "markdown",
   "metadata": {},
   "source": [
    "### 2. Create a Graph from an edge list"
   ]
  },
  {
   "cell_type": "code",
   "execution_count": 3,
   "metadata": {},
   "outputs": [],
   "source": [
    "# create a Graph using the source (src) and destination (dst) vertex pairs from the Dataframe\n",
    "G = cugraph.Graph()\n",
    "G.add_edge_list(gdf[\"src\"], gdf[\"dst\"])"
   ]
  },
  {
   "cell_type": "markdown",
   "metadata": {},
   "source": [
    "### 3a. Call Weakly Connected Components"
   ]
  },
  {
   "cell_type": "code",
   "execution_count": 4,
   "metadata": {},
   "outputs": [
    {
     "name": "stdout",
     "output_type": "stream",
     "text": [
      "      labels  vertices\n",
      "0          1         0\n",
      "1          1         1\n",
      "2          3         2\n",
      "3          3         3\n",
      "4          3         4\n",
      "5          3         5\n",
      "6          3         6\n",
      "7          8         7\n",
      "8          8         8\n",
      "9          8         9\n",
      "10         8        10\n",
      "11         8        11\n",
      "12        13        12\n",
      "13        13        13\n",
      "14        13        14\n",
      "15        13        15\n",
      "16        17        16\n",
      "17        17        17\n",
      "18        17        18\n",
      "19        20        19\n",
      "20        21        20\n",
      "21        21        21\n",
      "22        21        22\n",
      "23        24        23\n",
      "24        24        24\n",
      "25        24        25\n",
      "26        27        26\n",
      "27        28        27\n",
      "28        28        28\n",
      "29        28        29\n",
      "...      ...       ...\n",
      "1559    1560      1559\n",
      "1560      31      1560\n",
      "1561      31      1561\n",
      "1562      63      1562\n",
      "1563      63      1563\n",
      "1564      63      1564\n",
      "1565      63      1565\n",
      "1566      63      1566\n",
      "1567      63      1567\n",
      "1568    1569      1568\n",
      "1569    1569      1569\n",
      "1570     337      1570\n",
      "1571     337      1571\n",
      "1572     337      1572\n",
      "1573     337      1573\n",
      "1574     337      1574\n",
      "1575    1576      1575\n",
      "1576    1576      1576\n",
      "1577    1576      1577\n",
      "1578    1576      1578\n",
      "1579     337      1579\n",
      "1580    1581      1580\n",
      "1581    1581      1581\n",
      "1582    1583      1582\n",
      "1583    1584      1583\n",
      "1584    1584      1584\n",
      "1585    1586      1585\n",
      "1586    1586      1586\n",
      "1587    1586      1587\n",
      "1588      74      1588\n",
      "\n",
      "[1589 rows x 2 columns]\n"
     ]
    }
   ],
   "source": [
    "# Call cugraph.weakly_connected_components on the dataframe\n",
    "df = cugraph.weakly_connected_components(G)\n",
    "print(df)"
   ]
  },
  {
   "cell_type": "markdown",
   "metadata": {},
   "source": [
    "#### Get total number of weakly connected components"
   ]
  },
  {
   "cell_type": "code",
   "execution_count": 5,
   "metadata": {},
   "outputs": [
    {
     "name": "stdout",
     "output_type": "stream",
     "text": [
      "Total number of components found :  396\n"
     ]
    }
   ],
   "source": [
    "# Use groupby on the 'labels' column of the WCC output to get the counts of each connected component label\n",
    "label_gby = df.groupby('labels')\n",
    "label_count = label_gby.count()\n",
    "\n",
    "print(\"Total number of components found : \", len(label_count))"
   ]
  },
  {
   "cell_type": "markdown",
   "metadata": {},
   "source": [
    "#### Get size of the largest weakly connected component"
   ]
  },
  {
   "cell_type": "code",
   "execution_count": 6,
   "metadata": {},
   "outputs": [
    {
     "name": "stdout",
     "output_type": "stream",
     "text": [
      "Size of the largest component is found to be :  379\n"
     ]
    }
   ],
   "source": [
    "# Call nlargest on the groupby result to get the row where the component count is the largest\n",
    "largest_component = label_count.nlargest(n = 1, columns = 'vertices')\n",
    "print(\"Size of the largest component is found to be : \", largest_component['vertices'][0])"
   ]
  },
  {
   "cell_type": "markdown",
   "metadata": {},
   "source": [
    "#### Output vertex ids belonging to a weakly connected component label"
   ]
  },
  {
   "cell_type": "code",
   "execution_count": 7,
   "metadata": {
    "scrolled": false
   },
   "outputs": [
    {
     "name": "stdout",
     "output_type": "stream",
     "text": [
      "Vertex Ids that belong to component label 1 : \n",
      "      labels  vertices\n",
      "0          1         0\n",
      "1          1         1\n",
      "946        1       946\n",
      "1084       1      1084\n"
     ]
    }
   ],
   "source": [
    "# Query the connected component output to display vertex ids that belong to a component of interest\n",
    "expr = \"labels == 1\"\n",
    "component = df.query(expr)\n",
    "print(\"Vertex Ids that belong to component label 1 : \")\n",
    "print(component)"
   ]
  },
  {
   "cell_type": "markdown",
   "metadata": {},
   "source": [
    "### 3b. Call Strongly Connected Components"
   ]
  },
  {
   "cell_type": "code",
   "execution_count": 8,
   "metadata": {},
   "outputs": [
    {
     "name": "stdout",
     "output_type": "stream",
     "text": [
      "      labels  vertices\n",
      "0          0         0\n",
      "1          0         1\n",
      "2          2         2\n",
      "3          2         3\n",
      "4          2         4\n",
      "5          2         5\n",
      "6          2         6\n",
      "7          7         7\n",
      "8          7         8\n",
      "9          7         9\n",
      "10         7        10\n",
      "11         7        11\n",
      "12        12        12\n",
      "13        12        13\n",
      "14        12        14\n",
      "15        12        15\n",
      "16        16        16\n",
      "17        16        17\n",
      "18        16        18\n",
      "19        19        19\n",
      "20        20        20\n",
      "21        20        21\n",
      "22        20        22\n",
      "23        23        23\n",
      "24        23        24\n",
      "25        23        25\n",
      "26        26        26\n",
      "27        27        27\n",
      "28        27        28\n",
      "29        27        29\n",
      "...      ...       ...\n",
      "1559    1559      1559\n",
      "1560      30      1560\n",
      "1561      30      1561\n",
      "1562      62      1562\n",
      "1563      62      1563\n",
      "1564      62      1564\n",
      "1565      62      1565\n",
      "1566      62      1566\n",
      "1567      62      1567\n",
      "1568    1568      1568\n",
      "1569    1568      1569\n",
      "1570     336      1570\n",
      "1571     336      1571\n",
      "1572     336      1572\n",
      "1573     336      1573\n",
      "1574     336      1574\n",
      "1575    1575      1575\n",
      "1576    1575      1576\n",
      "1577    1575      1577\n",
      "1578    1575      1578\n",
      "1579     336      1579\n",
      "1580    1580      1580\n",
      "1581    1580      1581\n",
      "1582    1582      1582\n",
      "1583    1583      1583\n",
      "1584    1583      1584\n",
      "1585    1585      1585\n",
      "1586    1585      1586\n",
      "1587    1585      1587\n",
      "1588      73      1588\n",
      "\n",
      "[1589 rows x 2 columns]\n"
     ]
    }
   ],
   "source": [
    "# Call cugraph.strongly_connected_components on the dataframe\n",
    "df = cugraph.strongly_connected_components(G)\n",
    "print(df)"
   ]
  },
  {
   "cell_type": "markdown",
   "metadata": {},
   "source": [
    "#### Get total number of strongly connected components"
   ]
  },
  {
   "cell_type": "code",
   "execution_count": 9,
   "metadata": {},
   "outputs": [
    {
     "name": "stdout",
     "output_type": "stream",
     "text": [
      "Total number of components found :  396\n"
     ]
    }
   ],
   "source": [
    "# Use groupby on the 'labels' column of the SCC output to get the counts of each connected component label\n",
    "label_gby = df.groupby('labels')\n",
    "label_count = label_gby.count()\n",
    "print(\"Total number of components found : \", len(label_count))"
   ]
  },
  {
   "cell_type": "markdown",
   "metadata": {},
   "source": [
    "#### Get size of the largest strongly connected component"
   ]
  },
  {
   "cell_type": "code",
   "execution_count": 10,
   "metadata": {},
   "outputs": [
    {
     "name": "stdout",
     "output_type": "stream",
     "text": [
      "Size of the largest component is found to be :  379\n"
     ]
    }
   ],
   "source": [
    "# Call nlargest on the groupby result to get the row where the component count is the largest\n",
    "largest_component = label_count.nlargest(n = 1, columns = 'vertices')\n",
    "print(\"Size of the largest component is found to be : \", largest_component['vertices'][0])"
   ]
  },
  {
   "cell_type": "markdown",
   "metadata": {},
   "source": [
    "#### Output vertex ids belonging to a strongly connected component label"
   ]
  },
  {
   "cell_type": "code",
   "execution_count": 11,
   "metadata": {
    "scrolled": true
   },
   "outputs": [
    {
     "name": "stdout",
     "output_type": "stream",
     "text": [
      "Vertex Ids that belong to component label 2 : \n",
      "   labels  vertices\n",
      "2       2         2\n",
      "3       2         3\n",
      "4       2         4\n",
      "5       2         5\n",
      "6       2         6\n"
     ]
    }
   ],
   "source": [
    "# Query the connected component output to display vertex ids that belong to a component of interest\n",
    "expr = \"labels == 2\"\n",
    "component = df.query(expr)\n",
    "print(\"Vertex Ids that belong to component label 2 : \")\n",
    "print(component)"
   ]
  },
  {
   "cell_type": "markdown",
   "metadata": {},
   "source": [
    "### Conclusion\n",
    "\n",
    "The number of components found by **cugraph.weakly_connected_components(G)** and **cugraph.strongly_connected_components(G)** are equal to the results from  M. E. J. Newman,\n",
    "Phys. Rev. E 64, 016132 (2001)."
   ]
  },
  {
   "cell_type": "markdown",
   "metadata": {},
   "source": [
    "___\n",
    "Copyright (c) 2019, NVIDIA CORPORATION.\n",
    "\n",
    "Licensed under the Apache License, Version 2.0 (the \"License\");  you may not use this file except in compliance with the License. You may obtain a copy of the License at http://www.apache.org/licenses/LICENSE-2.0\n",
    "\n",
    "Unless required by applicable law or agreed to in writing, software distributed under the License is distributed on an \"AS IS\" BASIS, WITHOUT WARRANTIES OR CONDITIONS OF ANY KIND, either express or implied. See the License for the specific language governing permissions and limitations under the License.\n",
    "___"
   ]
  }
 ],
 "metadata": {
  "kernelspec": {
   "display_name": "Python 3",
   "language": "python",
   "name": "python3"
  },
  "language_info": {
   "codemirror_mode": {
    "name": "ipython",
    "version": 3
   },
   "file_extension": ".py",
   "mimetype": "text/x-python",
   "name": "python",
   "nbconvert_exporter": "python",
   "pygments_lexer": "ipython3",
   "version": "3.7.3"
  }
 },
 "nbformat": 4,
 "nbformat_minor": 2
}
